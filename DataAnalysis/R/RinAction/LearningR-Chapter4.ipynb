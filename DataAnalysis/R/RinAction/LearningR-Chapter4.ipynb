{
 "cells": [
  {
   "cell_type": "markdown",
   "metadata": {},
   "source": [
    "# 基本数据管理\n",
    "+ 操纵日期和缺失值\n",
    "\n",
    "+ 熟悉数据类型的转换\n",
    "\n",
    "+ 变量的创建和重编码\n",
    "\n",
    "+ 数据集的排序、合并和取子集\n",
    "\n",
    "+ 选入和丢弃变量\n",
    "\n"
   ]
  },
  {
   "cell_type": "markdown",
   "metadata": {},
   "source": [
    "## 创建新变量"
   ]
  },
  {
   "cell_type": "code",
   "execution_count": 3,
   "metadata": {},
   "outputs": [
    {
     "data": {
      "text/html": [
       "<table>\n",
       "<thead><tr><th scope=col>manager</th><th scope=col>date</th><th scope=col>country</th><th scope=col>gender</th><th scope=col>age</th><th scope=col>q1</th><th scope=col>q2</th><th scope=col>q3</th></tr></thead>\n",
       "<tbody>\n",
       "\t<tr><td>1    </td><td>10/1 </td><td>US   </td><td>M    </td><td>30   </td><td>5    </td><td>4    </td><td>4    </td></tr>\n",
       "\t<tr><td>2    </td><td>10/2 </td><td>CHINA</td><td>F    </td><td>45   </td><td>2    </td><td>2    </td><td>7    </td></tr>\n",
       "\t<tr><td>3    </td><td>10/4 </td><td>JAPAN</td><td>F    </td><td>60   </td><td>3    </td><td>3    </td><td>8    </td></tr>\n",
       "</tbody>\n",
       "</table>\n"
      ],
      "text/latex": [
       "\\begin{tabular}{r|llllllll}\n",
       " manager & date & country & gender & age & q1 & q2 & q3\\\\\n",
       "\\hline\n",
       "\t 1     & 10/1  & US    & M     & 30    & 5     & 4     & 4    \\\\\n",
       "\t 2     & 10/2  & CHINA & F     & 45    & 2     & 2     & 7    \\\\\n",
       "\t 3     & 10/4  & JAPAN & F     & 60    & 3     & 3     & 8    \\\\\n",
       "\\end{tabular}\n"
      ],
      "text/markdown": [
       "\n",
       "manager | date | country | gender | age | q1 | q2 | q3 | \n",
       "|---|---|---|\n",
       "| 1     | 10/1  | US    | M     | 30    | 5     | 4     | 4     | \n",
       "| 2     | 10/2  | CHINA | F     | 45    | 2     | 2     | 7     | \n",
       "| 3     | 10/4  | JAPAN | F     | 60    | 3     | 3     | 8     | \n",
       "\n",
       "\n"
      ],
      "text/plain": [
       "  manager date country gender age q1 q2 q3\n",
       "1 1       10/1 US      M      30  5  4  4 \n",
       "2 2       10/2 CHINA   F      45  2  2  7 \n",
       "3 3       10/4 JAPAN   F      60  3  3  8 "
      ]
     },
     "metadata": {},
     "output_type": "display_data"
    }
   ],
   "source": [
    "manager <- c(1,2,3)\n",
    "date <- c(\"10/1\",\"10/2\",\"10/4\")\n",
    "country <- c('US','CHINA','JAPAN')\n",
    "gender <- c('M','F','F')\n",
    "age <- c(30,45,60)\n",
    "q1<-c(5,2,3)\n",
    "q2 <- c(4,2,3)\n",
    "q3 <- c(4,7,8)\n",
    "leadership <- data.frame(manager,date,country,gender,age,q1,q2,q3,stringsAsFactors =FALSE)\n",
    "\n",
    "leadership"
   ]
  },
  {
   "cell_type": "code",
   "execution_count": 1,
   "metadata": {},
   "outputs": [
    {
     "data": {
      "text/html": [
       "<table>\n",
       "<thead><tr><th scope=col>x1</th><th scope=col>x2</th></tr></thead>\n",
       "<tbody>\n",
       "\t<tr><td>2</td><td>6</td></tr>\n",
       "\t<tr><td>3</td><td>7</td></tr>\n",
       "\t<tr><td>4</td><td>9</td></tr>\n",
       "\t<tr><td>5</td><td>2</td></tr>\n",
       "</tbody>\n",
       "</table>\n"
      ],
      "text/latex": [
       "\\begin{tabular}{r|ll}\n",
       " x1 & x2\\\\\n",
       "\\hline\n",
       "\t 2 & 6\\\\\n",
       "\t 3 & 7\\\\\n",
       "\t 4 & 9\\\\\n",
       "\t 5 & 2\\\\\n",
       "\\end{tabular}\n"
      ],
      "text/markdown": [
       "\n",
       "x1 | x2 | \n",
       "|---|---|---|---|\n",
       "| 2 | 6 | \n",
       "| 3 | 7 | \n",
       "| 4 | 9 | \n",
       "| 5 | 2 | \n",
       "\n",
       "\n"
      ],
      "text/plain": [
       "  x1 x2\n",
       "1 2  6 \n",
       "2 3  7 \n",
       "3 4  9 \n",
       "4 5  2 "
      ]
     },
     "metadata": {},
     "output_type": "display_data"
    },
    {
     "data": {
      "text/html": [
       "<table>\n",
       "<thead><tr><th scope=col>x1</th><th scope=col>x2</th><th scope=col>sumx</th><th scope=col>meanx</th></tr></thead>\n",
       "<tbody>\n",
       "\t<tr><td>2  </td><td>6  </td><td> 8 </td><td>4.0</td></tr>\n",
       "\t<tr><td>3  </td><td>7  </td><td>10 </td><td>5.0</td></tr>\n",
       "\t<tr><td>4  </td><td>9  </td><td>13 </td><td>6.5</td></tr>\n",
       "\t<tr><td>5  </td><td>2  </td><td> 7 </td><td>3.5</td></tr>\n",
       "</tbody>\n",
       "</table>\n"
      ],
      "text/latex": [
       "\\begin{tabular}{r|llll}\n",
       " x1 & x2 & sumx & meanx\\\\\n",
       "\\hline\n",
       "\t 2   & 6   &  8  & 4.0\\\\\n",
       "\t 3   & 7   & 10  & 5.0\\\\\n",
       "\t 4   & 9   & 13  & 6.5\\\\\n",
       "\t 5   & 2   &  7  & 3.5\\\\\n",
       "\\end{tabular}\n"
      ],
      "text/markdown": [
       "\n",
       "x1 | x2 | sumx | meanx | \n",
       "|---|---|---|---|\n",
       "| 2   | 6   |  8  | 4.0 | \n",
       "| 3   | 7   | 10  | 5.0 | \n",
       "| 4   | 9   | 13  | 6.5 | \n",
       "| 5   | 2   |  7  | 3.5 | \n",
       "\n",
       "\n"
      ],
      "text/plain": [
       "  x1 x2 sumx meanx\n",
       "1 2  6   8   4.0  \n",
       "2 3  7  10   5.0  \n",
       "3 4  9  13   6.5  \n",
       "4 5  2   7   3.5  "
      ]
     },
     "metadata": {},
     "output_type": "display_data"
    }
   ],
   "source": [
    "mydata <- data.frame(x1=c(2,3,4,5),\n",
    "                    x2=c(6,7,9,2))\n",
    "mydata\n",
    "mydata <- transform(mydata,\n",
    "                   sumx = x1+x2,\n",
    "                   meanx= (x1+x2)/2)\n",
    "mydata"
   ]
  },
  {
   "cell_type": "markdown",
   "metadata": {},
   "source": [
    "## 变量的重编码\n",
    "从一个变量的现有值创建新的值的过程\n",
    "**注意** R 中比较浮点数值要慎用 =="
   ]
  },
  {
   "cell_type": "code",
   "execution_count": 4,
   "metadata": {},
   "outputs": [
    {
     "data": {
      "text/html": [
       "<table>\n",
       "<thead><tr><th scope=col>manager</th><th scope=col>date</th><th scope=col>country</th><th scope=col>gender</th><th scope=col>age</th><th scope=col>q1</th><th scope=col>q2</th><th scope=col>q3</th><th scope=col>agecat</th></tr></thead>\n",
       "<tbody>\n",
       "\t<tr><td>1     </td><td>10/1  </td><td>US    </td><td>M     </td><td>30    </td><td>5     </td><td>4     </td><td>4     </td><td>Young </td></tr>\n",
       "\t<tr><td>2     </td><td>10/2  </td><td>CHINA </td><td>F     </td><td>45    </td><td>2     </td><td>2     </td><td>7     </td><td>Young </td></tr>\n",
       "\t<tr><td>3     </td><td>10/4  </td><td>JAPAN </td><td>F     </td><td>60    </td><td>3     </td><td>3     </td><td>8     </td><td>Middle</td></tr>\n",
       "</tbody>\n",
       "</table>\n"
      ],
      "text/latex": [
       "\\begin{tabular}{r|lllllllll}\n",
       " manager & date & country & gender & age & q1 & q2 & q3 & agecat\\\\\n",
       "\\hline\n",
       "\t 1      & 10/1   & US     & M      & 30     & 5      & 4      & 4      & Young \\\\\n",
       "\t 2      & 10/2   & CHINA  & F      & 45     & 2      & 2      & 7      & Young \\\\\n",
       "\t 3      & 10/4   & JAPAN  & F      & 60     & 3      & 3      & 8      & Middle\\\\\n",
       "\\end{tabular}\n"
      ],
      "text/markdown": [
       "\n",
       "manager | date | country | gender | age | q1 | q2 | q3 | agecat | \n",
       "|---|---|---|\n",
       "| 1      | 10/1   | US     | M      | 30     | 5      | 4      | 4      | Young  | \n",
       "| 2      | 10/2   | CHINA  | F      | 45     | 2      | 2      | 7      | Young  | \n",
       "| 3      | 10/4   | JAPAN  | F      | 60     | 3      | 3      | 8      | Middle | \n",
       "\n",
       "\n"
      ],
      "text/plain": [
       "  manager date country gender age q1 q2 q3 agecat\n",
       "1 1       10/1 US      M      30  5  4  4  Young \n",
       "2 2       10/2 CHINA   F      45  2  2  7  Young \n",
       "3 3       10/4 JAPAN   F      60  3  3  8  Middle"
      ]
     },
     "metadata": {},
     "output_type": "display_data"
    }
   ],
   "source": [
    "leadership <- within(leadership,{\n",
    "    agecat <-NA\n",
    "    agecat [age > 75] <- \"Elder\"\n",
    "    agecat [age >= 55 & age <= 75] <- \"Middle\"\n",
    "    agecat[age < 55] <- \"Young\"\n",
    "})\n",
    "\n",
    "leadership"
   ]
  },
  {
   "cell_type": "code",
   "execution_count": 6,
   "metadata": {},
   "outputs": [
    {
     "data": {
      "text/html": [
       "<table>\n",
       "<thead><tr><th scope=col>manager</th><th scope=col>testDate</th><th scope=col>country</th><th scope=col>gender</th><th scope=col>age</th><th scope=col>q1</th><th scope=col>q2</th><th scope=col>q3</th><th scope=col>agecat</th></tr></thead>\n",
       "<tbody>\n",
       "\t<tr><td>1     </td><td>10/1  </td><td>US    </td><td>M     </td><td>30    </td><td>5     </td><td>4     </td><td>4     </td><td>Young </td></tr>\n",
       "\t<tr><td>2     </td><td>10/2  </td><td>CHINA </td><td>F     </td><td>45    </td><td>2     </td><td>2     </td><td>7     </td><td>Young </td></tr>\n",
       "\t<tr><td>3     </td><td>10/4  </td><td>JAPAN </td><td>F     </td><td>60    </td><td>3     </td><td>3     </td><td>8     </td><td>Middle</td></tr>\n",
       "</tbody>\n",
       "</table>\n"
      ],
      "text/latex": [
       "\\begin{tabular}{r|lllllllll}\n",
       " manager & testDate & country & gender & age & q1 & q2 & q3 & agecat\\\\\n",
       "\\hline\n",
       "\t 1      & 10/1   & US     & M      & 30     & 5      & 4      & 4      & Young \\\\\n",
       "\t 2      & 10/2   & CHINA  & F      & 45     & 2      & 2      & 7      & Young \\\\\n",
       "\t 3      & 10/4   & JAPAN  & F      & 60     & 3      & 3      & 8      & Middle\\\\\n",
       "\\end{tabular}\n"
      ],
      "text/markdown": [
       "\n",
       "manager | testDate | country | gender | age | q1 | q2 | q3 | agecat | \n",
       "|---|---|---|\n",
       "| 1      | 10/1   | US     | M      | 30     | 5      | 4      | 4      | Young  | \n",
       "| 2      | 10/2   | CHINA  | F      | 45     | 2      | 2      | 7      | Young  | \n",
       "| 3      | 10/4   | JAPAN  | F      | 60     | 3      | 3      | 8      | Middle | \n",
       "\n",
       "\n"
      ],
      "text/plain": [
       "  manager testDate country gender age q1 q2 q3 agecat\n",
       "1 1       10/1     US      M      30  5  4  4  Young \n",
       "2 2       10/2     CHINA   F      45  2  2  7  Young \n",
       "3 3       10/4     JAPAN   F      60  3  3  8  Middle"
      ]
     },
     "metadata": {},
     "output_type": "display_data"
    }
   ],
   "source": [
    "names(leadership)[2] <- \"testDate\"\n",
    "\n",
    "leadership"
   ]
  },
  {
   "cell_type": "markdown",
   "metadata": {},
   "source": [
    "plyr 包中有 rename() 函数可以方便的修改变量名 这个包中也有一系列强大的数据集操作函数"
   ]
  },
  {
   "cell_type": "markdown",
   "metadata": {},
   "source": [
    "## 缺失值处理\n",
    "\n",
    "is.na() 进行检测\n",
    "需要注意：\n",
    "\n",
    "1. 缺失值不可以进行比较\n",
    "\n",
    "2. R 不把无限的值或者不是数字的值用缺失值表示\n",
    "如 Inf 和 NaN 分别表示 无穷和不是数 分别要用 is.infinite()和is.nan()识别"
   ]
  },
  {
   "cell_type": "code",
   "execution_count": 16,
   "metadata": {},
   "outputs": [
    {
     "data": {
      "text/html": [
       "<ol class=list-inline>\n",
       "\t<li>FALSE</li>\n",
       "\t<li>FALSE</li>\n",
       "\t<li>TRUE</li>\n",
       "</ol>\n"
      ],
      "text/latex": [
       "\\begin{enumerate*}\n",
       "\\item FALSE\n",
       "\\item FALSE\n",
       "\\item TRUE\n",
       "\\end{enumerate*}\n"
      ],
      "text/markdown": [
       "1. FALSE\n",
       "2. FALSE\n",
       "3. TRUE\n",
       "\n",
       "\n"
      ],
      "text/plain": [
       "[1] FALSE FALSE  TRUE"
      ]
     },
     "metadata": {},
     "output_type": "display_data"
    },
    {
     "data": {
      "text/html": [
       "<table>\n",
       "<thead><tr><th></th><th scope=col>manager</th><th scope=col>testDate</th><th scope=col>country</th><th scope=col>gender</th><th scope=col>age</th><th scope=col>q1</th><th scope=col>q2</th><th scope=col>q3</th><th scope=col>agecat</th></tr></thead>\n",
       "<tbody>\n",
       "\t<tr><th scope=row>1</th><td>FALSE</td><td>FALSE</td><td>FALSE</td><td>FALSE</td><td>FALSE</td><td>FALSE</td><td>FALSE</td><td>FALSE</td><td>FALSE</td></tr>\n",
       "\t<tr><th scope=row>2</th><td>FALSE</td><td>FALSE</td><td>FALSE</td><td>FALSE</td><td>FALSE</td><td>FALSE</td><td>FALSE</td><td>FALSE</td><td>FALSE</td></tr>\n",
       "\t<tr><th scope=row>3</th><td>FALSE</td><td>FALSE</td><td>FALSE</td><td>FALSE</td><td>FALSE</td><td>FALSE</td><td>FALSE</td><td>FALSE</td><td>FALSE</td></tr>\n",
       "</tbody>\n",
       "</table>\n"
      ],
      "text/latex": [
       "\\begin{tabular}{r|lllllllll}\n",
       "  & manager & testDate & country & gender & age & q1 & q2 & q3 & agecat\\\\\n",
       "\\hline\n",
       "\t1 & FALSE & FALSE & FALSE & FALSE & FALSE & FALSE & FALSE & FALSE & FALSE\\\\\n",
       "\t2 & FALSE & FALSE & FALSE & FALSE & FALSE & FALSE & FALSE & FALSE & FALSE\\\\\n",
       "\t3 & FALSE & FALSE & FALSE & FALSE & FALSE & FALSE & FALSE & FALSE & FALSE\\\\\n",
       "\\end{tabular}\n"
      ],
      "text/markdown": [
       "\n",
       "| <!--/--> | manager | testDate | country | gender | age | q1 | q2 | q3 | agecat | \n",
       "|---|---|---|\n",
       "| 1 | FALSE | FALSE | FALSE | FALSE | FALSE | FALSE | FALSE | FALSE | FALSE | \n",
       "| 2 | FALSE | FALSE | FALSE | FALSE | FALSE | FALSE | FALSE | FALSE | FALSE | \n",
       "| 3 | FALSE | FALSE | FALSE | FALSE | FALSE | FALSE | FALSE | FALSE | FALSE | \n",
       "\n",
       "\n"
      ],
      "text/plain": [
       "  manager testDate country gender age   q1    q2    q3    agecat\n",
       "1 FALSE   FALSE    FALSE   FALSE  FALSE FALSE FALSE FALSE FALSE \n",
       "2 FALSE   FALSE    FALSE   FALSE  FALSE FALSE FALSE FALSE FALSE \n",
       "3 FALSE   FALSE    FALSE   FALSE  FALSE FALSE FALSE FALSE FALSE "
      ]
     },
     "metadata": {},
     "output_type": "display_data"
    },
    {
     "name": "stderr",
     "output_type": "stream",
     "text": [
      "Warning message in sin(Inf):\n",
      "\"产生了NaNs\""
     ]
    },
    {
     "data": {
      "text/html": [
       "TRUE"
      ],
      "text/latex": [
       "TRUE"
      ],
      "text/markdown": [
       "TRUE"
      ],
      "text/plain": [
       "[1] TRUE"
      ]
     },
     "metadata": {},
     "output_type": "display_data"
    }
   ],
   "source": [
    "y <- c(1,2,NA)\n",
    "is.na(y)\n",
    "is.na(leadership)\n",
    "\n",
    "z <- sin(Inf)\n",
    "is.nan(z)"
   ]
  },
  {
   "cell_type": "markdown",
   "metadata": {},
   "source": [
    "一些数值函数会有在分析中处理缺失值的功能\n",
    "\n"
   ]
  },
  {
   "cell_type": "code",
   "execution_count": 17,
   "metadata": {},
   "outputs": [
    {
     "data": {
      "text/html": [
       "7"
      ],
      "text/latex": [
       "7"
      ],
      "text/markdown": [
       "7"
      ],
      "text/plain": [
       "[1] 7"
      ]
     },
     "metadata": {},
     "output_type": "display_data"
    }
   ],
   "source": [
    "x <- c(1,2,NA,4)\n",
    "y <- sum(x,na.rm= TRUE)\n",
    "y"
   ]
  },
  {
   "cell_type": "markdown",
   "metadata": {},
   "source": [
    "另外可以通过 na.omit() 移除所有含有缺失值的观测"
   ]
  },
  {
   "cell_type": "code",
   "execution_count": 20,
   "metadata": {},
   "outputs": [
    {
     "data": {
      "text/html": [
       "<table>\n",
       "<thead><tr><th scope=col>manager</th><th scope=col>testDate</th><th scope=col>country</th><th scope=col>gender</th><th scope=col>age</th><th scope=col>q1</th><th scope=col>q2</th><th scope=col>q3</th><th scope=col>agecat</th></tr></thead>\n",
       "<tbody>\n",
       "\t<tr><td>1     </td><td>10/1  </td><td>NA    </td><td>M     </td><td>30    </td><td>5     </td><td>4     </td><td>4     </td><td>Young </td></tr>\n",
       "\t<tr><td>2     </td><td>10/2  </td><td>CHINA </td><td>F     </td><td>45    </td><td>2     </td><td>2     </td><td>7     </td><td>Young </td></tr>\n",
       "\t<tr><td>3     </td><td>10/4  </td><td>JAPAN </td><td>F     </td><td>60    </td><td>3     </td><td>3     </td><td>8     </td><td>Middle</td></tr>\n",
       "</tbody>\n",
       "</table>\n"
      ],
      "text/latex": [
       "\\begin{tabular}{r|lllllllll}\n",
       " manager & testDate & country & gender & age & q1 & q2 & q3 & agecat\\\\\n",
       "\\hline\n",
       "\t 1      & 10/1   & NA     & M      & 30     & 5      & 4      & 4      & Young \\\\\n",
       "\t 2      & 10/2   & CHINA  & F      & 45     & 2      & 2      & 7      & Young \\\\\n",
       "\t 3      & 10/4   & JAPAN  & F      & 60     & 3      & 3      & 8      & Middle\\\\\n",
       "\\end{tabular}\n"
      ],
      "text/markdown": [
       "\n",
       "manager | testDate | country | gender | age | q1 | q2 | q3 | agecat | \n",
       "|---|---|---|\n",
       "| 1      | 10/1   | NA     | M      | 30     | 5      | 4      | 4      | Young  | \n",
       "| 2      | 10/2   | CHINA  | F      | 45     | 2      | 2      | 7      | Young  | \n",
       "| 3      | 10/4   | JAPAN  | F      | 60     | 3      | 3      | 8      | Middle | \n",
       "\n",
       "\n"
      ],
      "text/plain": [
       "  manager testDate country gender age q1 q2 q3 agecat\n",
       "1 1       10/1     NA      M      30  5  4  4  Young \n",
       "2 2       10/2     CHINA   F      45  2  2  7  Young \n",
       "3 3       10/4     JAPAN   F      60  3  3  8  Middle"
      ]
     },
     "metadata": {},
     "output_type": "display_data"
    },
    {
     "data": {
      "text/html": [
       "<table>\n",
       "<thead><tr><th></th><th scope=col>manager</th><th scope=col>testDate</th><th scope=col>country</th><th scope=col>gender</th><th scope=col>age</th><th scope=col>q1</th><th scope=col>q2</th><th scope=col>q3</th><th scope=col>agecat</th></tr></thead>\n",
       "<tbody>\n",
       "\t<tr><th scope=row>2</th><td>2     </td><td>10/2  </td><td>CHINA </td><td>F     </td><td>45    </td><td>2     </td><td>2     </td><td>7     </td><td>Young </td></tr>\n",
       "\t<tr><th scope=row>3</th><td>3     </td><td>10/4  </td><td>JAPAN </td><td>F     </td><td>60    </td><td>3     </td><td>3     </td><td>8     </td><td>Middle</td></tr>\n",
       "</tbody>\n",
       "</table>\n"
      ],
      "text/latex": [
       "\\begin{tabular}{r|lllllllll}\n",
       "  & manager & testDate & country & gender & age & q1 & q2 & q3 & agecat\\\\\n",
       "\\hline\n",
       "\t2 & 2      & 10/2   & CHINA  & F      & 45     & 2      & 2      & 7      & Young \\\\\n",
       "\t3 & 3      & 10/4   & JAPAN  & F      & 60     & 3      & 3      & 8      & Middle\\\\\n",
       "\\end{tabular}\n"
      ],
      "text/markdown": [
       "\n",
       "| <!--/--> | manager | testDate | country | gender | age | q1 | q2 | q3 | agecat | \n",
       "|---|---|\n",
       "| 2 | 2      | 10/2   | CHINA  | F      | 45     | 2      | 2      | 7      | Young  | \n",
       "| 3 | 3      | 10/4   | JAPAN  | F      | 60     | 3      | 3      | 8      | Middle | \n",
       "\n",
       "\n"
      ],
      "text/plain": [
       "  manager testDate country gender age q1 q2 q3 agecat\n",
       "2 2       10/2     CHINA   F      45  2  2  7  Young \n",
       "3 3       10/4     JAPAN   F      60  3  3  8  Middle"
      ]
     },
     "metadata": {},
     "output_type": "display_data"
    }
   ],
   "source": [
    "leadership$country[1] = NA\n",
    "leadership\n",
    "newdata <- na.omit(leadership)\n",
    "newdata"
   ]
  },
  {
   "cell_type": "markdown",
   "metadata": {},
   "source": [
    "同时也可以对日期值的输入进行处理\n",
    "并可以采取下列的函数进行类型转换\n",
    "+ is.numeric() 判断 as.numeric() 转换\n",
    "...\n"
   ]
  },
  {
   "cell_type": "markdown",
   "metadata": {},
   "source": [
    "## 数据排序\n",
    "\n",
    "order()函数 默认的排序顺序是升序"
   ]
  },
  {
   "cell_type": "code",
   "execution_count": 21,
   "metadata": {},
   "outputs": [
    {
     "data": {
      "text/html": [
       "<table>\n",
       "<thead><tr><th scope=col>manager</th><th scope=col>testDate</th><th scope=col>country</th><th scope=col>gender</th><th scope=col>age</th><th scope=col>q1</th><th scope=col>q2</th><th scope=col>q3</th><th scope=col>agecat</th></tr></thead>\n",
       "<tbody>\n",
       "\t<tr><td>1     </td><td>10/1  </td><td>NA    </td><td>M     </td><td>30    </td><td>5     </td><td>4     </td><td>4     </td><td>Young </td></tr>\n",
       "\t<tr><td>2     </td><td>10/2  </td><td>CHINA </td><td>F     </td><td>45    </td><td>2     </td><td>2     </td><td>7     </td><td>Young </td></tr>\n",
       "\t<tr><td>3     </td><td>10/4  </td><td>JAPAN </td><td>F     </td><td>60    </td><td>3     </td><td>3     </td><td>8     </td><td>Middle</td></tr>\n",
       "</tbody>\n",
       "</table>\n"
      ],
      "text/latex": [
       "\\begin{tabular}{r|lllllllll}\n",
       " manager & testDate & country & gender & age & q1 & q2 & q3 & agecat\\\\\n",
       "\\hline\n",
       "\t 1      & 10/1   & NA     & M      & 30     & 5      & 4      & 4      & Young \\\\\n",
       "\t 2      & 10/2   & CHINA  & F      & 45     & 2      & 2      & 7      & Young \\\\\n",
       "\t 3      & 10/4   & JAPAN  & F      & 60     & 3      & 3      & 8      & Middle\\\\\n",
       "\\end{tabular}\n"
      ],
      "text/markdown": [
       "\n",
       "manager | testDate | country | gender | age | q1 | q2 | q3 | agecat | \n",
       "|---|---|---|\n",
       "| 1      | 10/1   | NA     | M      | 30     | 5      | 4      | 4      | Young  | \n",
       "| 2      | 10/2   | CHINA  | F      | 45     | 2      | 2      | 7      | Young  | \n",
       "| 3      | 10/4   | JAPAN  | F      | 60     | 3      | 3      | 8      | Middle | \n",
       "\n",
       "\n"
      ],
      "text/plain": [
       "  manager testDate country gender age q1 q2 q3 agecat\n",
       "1 1       10/1     NA      M      30  5  4  4  Young \n",
       "2 2       10/2     CHINA   F      45  2  2  7  Young \n",
       "3 3       10/4     JAPAN   F      60  3  3  8  Middle"
      ]
     },
     "metadata": {},
     "output_type": "display_data"
    },
    {
     "name": "stderr",
     "output_type": "stream",
     "text": [
      "The following objects are masked _by_ .GlobalEnv:\n",
      "\n",
      "    age, country, gender, manager, q1, q2, q3\n",
      "\n"
     ]
    },
    {
     "data": {
      "text/html": [
       "<table>\n",
       "<thead><tr><th></th><th scope=col>manager</th><th scope=col>testDate</th><th scope=col>country</th><th scope=col>gender</th><th scope=col>age</th><th scope=col>q1</th><th scope=col>q2</th><th scope=col>q3</th><th scope=col>agecat</th></tr></thead>\n",
       "<tbody>\n",
       "\t<tr><th scope=row>3</th><td>3     </td><td>10/4  </td><td>JAPAN </td><td>F     </td><td>60    </td><td>3     </td><td>3     </td><td>8     </td><td>Middle</td></tr>\n",
       "\t<tr><th scope=row>2</th><td>2     </td><td>10/2  </td><td>CHINA </td><td>F     </td><td>45    </td><td>2     </td><td>2     </td><td>7     </td><td>Young </td></tr>\n",
       "\t<tr><th scope=row>1</th><td>1     </td><td>10/1  </td><td>NA    </td><td>M     </td><td>30    </td><td>5     </td><td>4     </td><td>4     </td><td>Young </td></tr>\n",
       "</tbody>\n",
       "</table>\n"
      ],
      "text/latex": [
       "\\begin{tabular}{r|lllllllll}\n",
       "  & manager & testDate & country & gender & age & q1 & q2 & q3 & agecat\\\\\n",
       "\\hline\n",
       "\t3 & 3      & 10/4   & JAPAN  & F      & 60     & 3      & 3      & 8      & Middle\\\\\n",
       "\t2 & 2      & 10/2   & CHINA  & F      & 45     & 2      & 2      & 7      & Young \\\\\n",
       "\t1 & 1      & 10/1   & NA     & M      & 30     & 5      & 4      & 4      & Young \\\\\n",
       "\\end{tabular}\n"
      ],
      "text/markdown": [
       "\n",
       "| <!--/--> | manager | testDate | country | gender | age | q1 | q2 | q3 | agecat | \n",
       "|---|---|---|\n",
       "| 3 | 3      | 10/4   | JAPAN  | F      | 60     | 3      | 3      | 8      | Middle | \n",
       "| 2 | 2      | 10/2   | CHINA  | F      | 45     | 2      | 2      | 7      | Young  | \n",
       "| 1 | 1      | 10/1   | NA     | M      | 30     | 5      | 4      | 4      | Young  | \n",
       "\n",
       "\n"
      ],
      "text/plain": [
       "  manager testDate country gender age q1 q2 q3 agecat\n",
       "3 3       10/4     JAPAN   F      60  3  3  8  Middle\n",
       "2 2       10/2     CHINA   F      45  2  2  7  Young \n",
       "1 1       10/1     NA      M      30  5  4  4  Young "
      ]
     },
     "metadata": {},
     "output_type": "display_data"
    }
   ],
   "source": [
    "newdata <- leadership[order (leadership$age),]\n",
    "newdata\n",
    "\n",
    "attach(leadership)\n",
    "newdata <- leadership[order(gender,-age),]\n",
    "detach(leadership)\n",
    "newdata"
   ]
  },
  {
   "cell_type": "markdown",
   "metadata": {},
   "source": [
    "## 数据集的合并\n",
    "### 向数据框中添加列\n",
    "横向合并数据框可以使用 merge() 函数\n",
    "\n",
    "一般情况下 两个数据框是通过变量链接的如\n",
    "\n",
    "total <- merge(data1,data2,by=\"ID\")\n",
    "\n",
    "如果没有公共索引直接合并，可以使用 cbind() 但是此时注意每个对象必须有相同的行数\n",
    "### 向数据框中添加行\n",
    "纵向合并需要使用 rbind()函数\n",
    "\n",
    "\n",
    "## 数据集取子集\n",
    "\n",
    "### 选入变量\n"
   ]
  },
  {
   "cell_type": "code",
   "execution_count": 23,
   "metadata": {},
   "outputs": [
    {
     "data": {
      "text/html": [
       "<table>\n",
       "<thead><tr><th scope=col>country</th><th scope=col>gender</th><th scope=col>age</th></tr></thead>\n",
       "<tbody>\n",
       "\t<tr><td>NA   </td><td>M    </td><td>30   </td></tr>\n",
       "\t<tr><td>CHINA</td><td>F    </td><td>45   </td></tr>\n",
       "\t<tr><td>JAPAN</td><td>F    </td><td>60   </td></tr>\n",
       "</tbody>\n",
       "</table>\n"
      ],
      "text/latex": [
       "\\begin{tabular}{r|lll}\n",
       " country & gender & age\\\\\n",
       "\\hline\n",
       "\t NA    & M     & 30   \\\\\n",
       "\t CHINA & F     & 45   \\\\\n",
       "\t JAPAN & F     & 60   \\\\\n",
       "\\end{tabular}\n"
      ],
      "text/markdown": [
       "\n",
       "country | gender | age | \n",
       "|---|---|---|\n",
       "| NA    | M     | 30    | \n",
       "| CHINA | F     | 45    | \n",
       "| JAPAN | F     | 60    | \n",
       "\n",
       "\n"
      ],
      "text/plain": [
       "  country gender age\n",
       "1 NA      M      30 \n",
       "2 CHINA   F      45 \n",
       "3 JAPAN   F      60 "
      ]
     },
     "metadata": {},
     "output_type": "display_data"
    },
    {
     "data": {
      "text/html": [
       "<table>\n",
       "<thead><tr><th scope=col>q1</th><th scope=col>agecat</th></tr></thead>\n",
       "<tbody>\n",
       "\t<tr><td>5     </td><td>Young </td></tr>\n",
       "\t<tr><td>2     </td><td>Young </td></tr>\n",
       "\t<tr><td>3     </td><td>Middle</td></tr>\n",
       "</tbody>\n",
       "</table>\n"
      ],
      "text/latex": [
       "\\begin{tabular}{r|ll}\n",
       " q1 & agecat\\\\\n",
       "\\hline\n",
       "\t 5      & Young \\\\\n",
       "\t 2      & Young \\\\\n",
       "\t 3      & Middle\\\\\n",
       "\\end{tabular}\n"
      ],
      "text/markdown": [
       "\n",
       "q1 | agecat | \n",
       "|---|---|---|\n",
       "| 5      | Young  | \n",
       "| 2      | Young  | \n",
       "| 3      | Middle | \n",
       "\n",
       "\n"
      ],
      "text/plain": [
       "  q1 agecat\n",
       "1 5  Young \n",
       "2 2  Young \n",
       "3 3  Middle"
      ]
     },
     "metadata": {},
     "output_type": "display_data"
    }
   ],
   "source": [
    "newdata <- leadership[,c(3:5)]\n",
    "newdata\n",
    "\n",
    "myvars <- c(\"q1\",\"agecat\")\n",
    "newdata <- leadership[myvars]\n",
    "newdata"
   ]
  },
  {
   "cell_type": "markdown",
   "metadata": {},
   "source": [
    "### 删除变量\n"
   ]
  },
  {
   "cell_type": "code",
   "execution_count": 25,
   "metadata": {},
   "outputs": [
    {
     "data": {
      "text/html": [
       "<table>\n",
       "<thead><tr><th scope=col>manager</th><th scope=col>testDate</th><th scope=col>country</th><th scope=col>gender</th><th scope=col>age</th><th scope=col>q1</th><th scope=col>agecat</th></tr></thead>\n",
       "<tbody>\n",
       "\t<tr><td>1     </td><td>10/1  </td><td>NA    </td><td>M     </td><td>30    </td><td>5     </td><td>Young </td></tr>\n",
       "\t<tr><td>2     </td><td>10/2  </td><td>CHINA </td><td>F     </td><td>45    </td><td>2     </td><td>Young </td></tr>\n",
       "\t<tr><td>3     </td><td>10/4  </td><td>JAPAN </td><td>F     </td><td>60    </td><td>3     </td><td>Middle</td></tr>\n",
       "</tbody>\n",
       "</table>\n"
      ],
      "text/latex": [
       "\\begin{tabular}{r|lllllll}\n",
       " manager & testDate & country & gender & age & q1 & agecat\\\\\n",
       "\\hline\n",
       "\t 1      & 10/1   & NA     & M      & 30     & 5      & Young \\\\\n",
       "\t 2      & 10/2   & CHINA  & F      & 45     & 2      & Young \\\\\n",
       "\t 3      & 10/4   & JAPAN  & F      & 60     & 3      & Middle\\\\\n",
       "\\end{tabular}\n"
      ],
      "text/markdown": [
       "\n",
       "manager | testDate | country | gender | age | q1 | agecat | \n",
       "|---|---|---|\n",
       "| 1      | 10/1   | NA     | M      | 30     | 5      | Young  | \n",
       "| 2      | 10/2   | CHINA  | F      | 45     | 2      | Young  | \n",
       "| 3      | 10/4   | JAPAN  | F      | 60     | 3      | Middle | \n",
       "\n",
       "\n"
      ],
      "text/plain": [
       "  manager testDate country gender age q1 agecat\n",
       "1 1       10/1     NA      M      30  5  Young \n",
       "2 2       10/2     CHINA   F      45  2  Young \n",
       "3 3       10/4     JAPAN   F      60  3  Middle"
      ]
     },
     "metadata": {},
     "output_type": "display_data"
    },
    {
     "data": {
      "text/html": [
       "<table>\n",
       "<thead><tr><th scope=col>manager</th><th scope=col>testDate</th><th scope=col>country</th><th scope=col>gender</th><th scope=col>age</th><th scope=col>q1</th><th scope=col>agecat</th></tr></thead>\n",
       "<tbody>\n",
       "\t<tr><td>1     </td><td>10/1  </td><td>NA    </td><td>M     </td><td>30    </td><td>5     </td><td>Young </td></tr>\n",
       "\t<tr><td>2     </td><td>10/2  </td><td>CHINA </td><td>F     </td><td>45    </td><td>2     </td><td>Young </td></tr>\n",
       "\t<tr><td>3     </td><td>10/4  </td><td>JAPAN </td><td>F     </td><td>60    </td><td>3     </td><td>Middle</td></tr>\n",
       "</tbody>\n",
       "</table>\n"
      ],
      "text/latex": [
       "\\begin{tabular}{r|lllllll}\n",
       " manager & testDate & country & gender & age & q1 & agecat\\\\\n",
       "\\hline\n",
       "\t 1      & 10/1   & NA     & M      & 30     & 5      & Young \\\\\n",
       "\t 2      & 10/2   & CHINA  & F      & 45     & 2      & Young \\\\\n",
       "\t 3      & 10/4   & JAPAN  & F      & 60     & 3      & Middle\\\\\n",
       "\\end{tabular}\n"
      ],
      "text/markdown": [
       "\n",
       "manager | testDate | country | gender | age | q1 | agecat | \n",
       "|---|---|---|\n",
       "| 1      | 10/1   | NA     | M      | 30     | 5      | Young  | \n",
       "| 2      | 10/2   | CHINA  | F      | 45     | 2      | Young  | \n",
       "| 3      | 10/4   | JAPAN  | F      | 60     | 3      | Middle | \n",
       "\n",
       "\n"
      ],
      "text/plain": [
       "  manager testDate country gender age q1 agecat\n",
       "1 1       10/1     NA      M      30  5  Young \n",
       "2 2       10/2     CHINA   F      45  2  Young \n",
       "3 3       10/4     JAPAN   F      60  3  Middle"
      ]
     },
     "metadata": {},
     "output_type": "display_data"
    }
   ],
   "source": [
    "myvars <- names(leadership) %in% c(\"q2\",\"q3\")\n",
    "newdata <- leadership[!myvars]\n",
    "newdata\n",
    "\n",
    "newdata <- leadership[c(-7,-8)]\n",
    "newdata"
   ]
  },
  {
   "cell_type": "markdown",
   "metadata": {},
   "source": [
    "### 选入观测"
   ]
  },
  {
   "cell_type": "code",
   "execution_count": 27,
   "metadata": {},
   "outputs": [
    {
     "data": {
      "text/html": [
       "<table>\n",
       "<thead><tr><th scope=col>manager</th><th scope=col>testDate</th><th scope=col>country</th><th scope=col>gender</th><th scope=col>age</th><th scope=col>q1</th><th scope=col>q2</th><th scope=col>q3</th><th scope=col>agecat</th></tr></thead>\n",
       "<tbody>\n",
       "\t<tr><td>1     </td><td>10/1  </td><td>NA    </td><td>M     </td><td>30    </td><td>5     </td><td>4     </td><td>4     </td><td>Young </td></tr>\n",
       "\t<tr><td>2     </td><td>10/2  </td><td>CHINA </td><td>F     </td><td>45    </td><td>2     </td><td>2     </td><td>7     </td><td>Young </td></tr>\n",
       "\t<tr><td>3     </td><td>10/4  </td><td>JAPAN </td><td>F     </td><td>60    </td><td>3     </td><td>3     </td><td>8     </td><td>Middle</td></tr>\n",
       "</tbody>\n",
       "</table>\n"
      ],
      "text/latex": [
       "\\begin{tabular}{r|lllllllll}\n",
       " manager & testDate & country & gender & age & q1 & q2 & q3 & agecat\\\\\n",
       "\\hline\n",
       "\t 1      & 10/1   & NA     & M      & 30     & 5      & 4      & 4      & Young \\\\\n",
       "\t 2      & 10/2   & CHINA  & F      & 45     & 2      & 2      & 7      & Young \\\\\n",
       "\t 3      & 10/4   & JAPAN  & F      & 60     & 3      & 3      & 8      & Middle\\\\\n",
       "\\end{tabular}\n"
      ],
      "text/markdown": [
       "\n",
       "manager | testDate | country | gender | age | q1 | q2 | q3 | agecat | \n",
       "|---|---|---|\n",
       "| 1      | 10/1   | NA     | M      | 30     | 5      | 4      | 4      | Young  | \n",
       "| 2      | 10/2   | CHINA  | F      | 45     | 2      | 2      | 7      | Young  | \n",
       "| 3      | 10/4   | JAPAN  | F      | 60     | 3      | 3      | 8      | Middle | \n",
       "\n",
       "\n"
      ],
      "text/plain": [
       "  manager testDate country gender age q1 q2 q3 agecat\n",
       "1 1       10/1     NA      M      30  5  4  4  Young \n",
       "2 2       10/2     CHINA   F      45  2  2  7  Young \n",
       "3 3       10/4     JAPAN   F      60  3  3  8  Middle"
      ]
     },
     "metadata": {},
     "output_type": "display_data"
    },
    {
     "data": {
      "text/html": [
       "<table>\n",
       "<thead><tr><th></th><th scope=col>manager</th><th scope=col>testDate</th><th scope=col>country</th><th scope=col>gender</th><th scope=col>age</th><th scope=col>q1</th><th scope=col>q2</th><th scope=col>q3</th><th scope=col>agecat</th></tr></thead>\n",
       "<tbody>\n",
       "\t<tr><th scope=row>2</th><td>2     </td><td>10/2  </td><td>CHINA </td><td>F     </td><td>45    </td><td>2     </td><td>2     </td><td>7     </td><td>Young </td></tr>\n",
       "\t<tr><th scope=row>3</th><td>3     </td><td>10/4  </td><td>JAPAN </td><td>F     </td><td>60    </td><td>3     </td><td>3     </td><td>8     </td><td>Middle</td></tr>\n",
       "</tbody>\n",
       "</table>\n"
      ],
      "text/latex": [
       "\\begin{tabular}{r|lllllllll}\n",
       "  & manager & testDate & country & gender & age & q1 & q2 & q3 & agecat\\\\\n",
       "\\hline\n",
       "\t2 & 2      & 10/2   & CHINA  & F      & 45     & 2      & 2      & 7      & Young \\\\\n",
       "\t3 & 3      & 10/4   & JAPAN  & F      & 60     & 3      & 3      & 8      & Middle\\\\\n",
       "\\end{tabular}\n"
      ],
      "text/markdown": [
       "\n",
       "| <!--/--> | manager | testDate | country | gender | age | q1 | q2 | q3 | agecat | \n",
       "|---|---|\n",
       "| 2 | 2      | 10/2   | CHINA  | F      | 45     | 2      | 2      | 7      | Young  | \n",
       "| 3 | 3      | 10/4   | JAPAN  | F      | 60     | 3      | 3      | 8      | Middle | \n",
       "\n",
       "\n"
      ],
      "text/plain": [
       "  manager testDate country gender age q1 q2 q3 agecat\n",
       "2 2       10/2     CHINA   F      45  2  2  7  Young \n",
       "3 3       10/4     JAPAN   F      60  3  3  8  Middle"
      ]
     },
     "metadata": {},
     "output_type": "display_data"
    }
   ],
   "source": [
    "newdata <- leadership[1:3,]\n",
    "newdata\n",
    "\n",
    "newdata <- leadership[leadership$gender == \"F\" &\n",
    "                     leadership$age > 30,]\n",
    "newdata"
   ]
  },
  {
   "cell_type": "markdown",
   "metadata": {},
   "source": [
    "### subset() 函数\n",
    "选择和观测最简单的方法"
   ]
  },
  {
   "cell_type": "code",
   "execution_count": 28,
   "metadata": {},
   "outputs": [
    {
     "data": {
      "text/html": [
       "<table>\n",
       "<thead><tr><th scope=col>q1</th><th scope=col>q2</th></tr></thead>\n",
       "<tbody>\n",
       "</tbody>\n",
       "</table>\n"
      ],
      "text/latex": [
       "\\begin{tabular}{r|ll}\n",
       " q1 & q2\\\\\n",
       "\\hline\n",
       "\\end{tabular}\n"
      ],
      "text/markdown": [
       "\n",
       "q1 | q2 | \n",
       "||\n",
       "\n",
       "\n"
      ],
      "text/plain": [
       "     q1 q2"
      ]
     },
     "metadata": {},
     "output_type": "display_data"
    },
    {
     "data": {
      "text/html": [
       "<table>\n",
       "<thead><tr><th></th><th scope=col>gender</th><th scope=col>age</th><th scope=col>q1</th><th scope=col>q2</th><th scope=col>q3</th></tr></thead>\n",
       "<tbody>\n",
       "\t<tr><th scope=row>2</th><td>F </td><td>45</td><td>2 </td><td>2 </td><td>7 </td></tr>\n",
       "\t<tr><th scope=row>3</th><td>F </td><td>60</td><td>3 </td><td>3 </td><td>8 </td></tr>\n",
       "</tbody>\n",
       "</table>\n"
      ],
      "text/latex": [
       "\\begin{tabular}{r|lllll}\n",
       "  & gender & age & q1 & q2 & q3\\\\\n",
       "\\hline\n",
       "\t2 & F  & 45 & 2  & 2  & 7 \\\\\n",
       "\t3 & F  & 60 & 3  & 3  & 8 \\\\\n",
       "\\end{tabular}\n"
      ],
      "text/markdown": [
       "\n",
       "| <!--/--> | gender | age | q1 | q2 | q3 | \n",
       "|---|---|\n",
       "| 2 | F  | 45 | 2  | 2  | 7  | \n",
       "| 3 | F  | 60 | 3  | 3  | 8  | \n",
       "\n",
       "\n"
      ],
      "text/plain": [
       "  gender age q1 q2 q3\n",
       "2 F      45  2  2  7 \n",
       "3 F      60  3  3  8 "
      ]
     },
     "metadata": {},
     "output_type": "display_data"
    }
   ],
   "source": [
    "newdata <- subset(leadership,age >= 35 & age < 24,\n",
    "                 select = c(q1,q2))\n",
    "newdata\n",
    "\n",
    "newdata <- subset(leadership,gender == \"F\" & age > 25,\n",
    "                 select = gender:q3)\n",
    "newdata"
   ]
  },
  {
   "cell_type": "markdown",
   "metadata": {},
   "source": [
    "### 使用 SQL 语言操作数据框\n",
    "推荐 sqldf 包"
   ]
  }
 ],
 "metadata": {
  "kernelspec": {
   "display_name": "R",
   "language": "R",
   "name": "ir"
  },
  "language_info": {
   "codemirror_mode": "r",
   "file_extension": ".r",
   "mimetype": "text/x-r-source",
   "name": "R",
   "pygments_lexer": "r",
   "version": "3.5.1"
  },
  "toc": {
   "base_numbering": 1,
   "nav_menu": {},
   "number_sections": true,
   "sideBar": true,
   "skip_h1_title": false,
   "title_cell": "Table of Contents",
   "title_sidebar": "Contents",
   "toc_cell": false,
   "toc_position": {},
   "toc_section_display": true,
   "toc_window_display": false
  }
 },
 "nbformat": 4,
 "nbformat_minor": 2
}
