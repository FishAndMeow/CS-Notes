{
 "cells": [
  {
   "cell_type": "markdown",
   "metadata": {},
   "source": [
    "# 高级数据管理\n",
    "+ 数学和统计函数\n",
    "\n",
    "+ 字符处理函数\n",
    "\n",
    "+ 循环和条件执行\n",
    "\n",
    "+ 自编函数\n",
    "\n",
    "+ 数据整合和重塑\n"
   ]
  },
  {
   "cell_type": "markdown",
   "metadata": {},
   "source": [
    "## 数值和字符处理函数\n",
    "\n",
    "### 数学函数\n",
    "\n",
    "+ trunc(x) 向0的方向截取整数部分\n",
    "\n",
    "+ round(x,digits=n) 将 x 舍入为指定的有效位数 和 signif(x,digits=n)\n",
    "\n",
    "### 统计函数\n",
    "\n",
    "+ mean()\n",
    "\n",
    "+ median()\n",
    "\n",
    "+ sd() 标准差\n",
    "\n",
    "+ var()\n",
    "\n",
    "+ mad() 绝对中位差\n",
    "\n",
    "+ quantile(x,probs) y <- quantile(x,c(.3,.85))\n",
    "\n",
    "+ range() 值域\n",
    "\n",
    "+ sum()\n",
    "\n",
    "+ diff(x,lag=n)\n",
    "\n",
    "+ scale(x,center=TRUE,scale=TRUE) 标准化"
   ]
  },
  {
   "cell_type": "code",
   "execution_count": 1,
   "metadata": {},
   "outputs": [
    {
     "data": {
      "image/png": "[encoded data removed]",
      "text/plain": [
       "plot without title"
      ]
     },
     "metadata": {},
     "output_type": "display_data"
    }
   ],
   "source": [
    "x <- pretty(c(-3,3),30)\n",
    "y <- dnorm(x)\n",
    "plot(x,y,\n",
    "    type = \"l\",\n",
    "    xlab = \"Normal Deviate\",\n",
    "    ylab=\"Density\",\n",
    "    yaxs = \"i\")"
   ]
  },
  {
   "cell_type": "markdown",
   "metadata": {},
   "source": [
    "1. 设定随机数种子\n",
    "set.seed()\n",
    "\n",
    "2. 生成多元正态数据\n",
    "MASS包中的 mvrnorm()\n",
    "```\n",
    "mvrnorm(n,mean,sigma)\n",
    "```"
   ]
  },
  {
   "cell_type": "markdown",
   "metadata": {},
   "source": [
    "### 字符处理函数\n",
    "\n",
    "+ nchar() 计算字符数量\n",
    "\n",
    "+ substr(x,start,stop)\n",
    "\n",
    "+ grep() 搜索\n",
    "\n",
    "+ sub() 搜索并替换\n",
    "\n",
    "+ strisplit()\n",
    "\n",
    "+ paste()\n",
    "\n",
    "+ toupper()\n",
    "\n",
    "+ tolower()\n",
    "### 其他实用函数\n",
    "\n",
    "+ length()\n",
    "\n",
    "+ seq() 生成一个序列\n",
    "\n",
    "+ rep()\n",
    "\n",
    "+ cut()\n",
    "\n",
    "+ pretty()\n",
    "\n",
    "+ cat()"
   ]
  },
  {
   "cell_type": "code",
   "execution_count": 2,
   "metadata": {},
   "outputs": [
    {
     "data": {
      "text/html": [
       "<table>\n",
       "<tbody>\n",
       "\t<tr><td> 1.88197239</td><td> 1.3377528 </td><td>-1.40486801</td><td>-1.16103779</td><td>-0.01199567</td></tr>\n",
       "\t<tr><td>-0.04126434</td><td>-0.6135734 </td><td>-0.58287026</td><td>-0.88439691</td><td> 0.14695688</td></tr>\n",
       "\t<tr><td> 1.11285255</td><td>-0.4700285 </td><td>-0.09634355</td><td>-0.02215615</td><td>-0.27324187</td></tr>\n",
       "\t<tr><td> 0.41901097</td><td>-1.5040713 </td><td>-2.22531480</td><td>-0.67388359</td><td> 0.12130870</td></tr>\n",
       "\t<tr><td>-1.42456929</td><td> 0.8817793 </td><td>-0.23174762</td><td> 0.26105311</td><td> 2.65813909</td></tr>\n",
       "\t<tr><td> 1.18918740</td><td> 1.4014389 </td><td>-1.03322800</td><td> 1.08300214</td><td> 0.10125720</td></tr>\n",
       "</tbody>\n",
       "</table>\n"
      ],
      "text/latex": [
       "\\begin{tabular}{lllll}\n",
       "\t  1.88197239 &  1.3377528  & -1.40486801 & -1.16103779 & -0.01199567\\\\\n",
       "\t -0.04126434 & -0.6135734  & -0.58287026 & -0.88439691 &  0.14695688\\\\\n",
       "\t  1.11285255 & -0.4700285  & -0.09634355 & -0.02215615 & -0.27324187\\\\\n",
       "\t  0.41901097 & -1.5040713  & -2.22531480 & -0.67388359 &  0.12130870\\\\\n",
       "\t -1.42456929 &  0.8817793  & -0.23174762 &  0.26105311 &  2.65813909\\\\\n",
       "\t  1.18918740 &  1.4014389  & -1.03322800 &  1.08300214 &  0.10125720\\\\\n",
       "\\end{tabular}\n"
      ],
      "text/markdown": [
       "\n",
       "|  1.88197239 |  1.3377528  | -1.40486801 | -1.16103779 | -0.01199567 | \n",
       "| -0.04126434 | -0.6135734  | -0.58287026 | -0.88439691 |  0.14695688 | \n",
       "|  1.11285255 | -0.4700285  | -0.09634355 | -0.02215615 | -0.27324187 | \n",
       "|  0.41901097 | -1.5040713  | -2.22531480 | -0.67388359 |  0.12130870 | \n",
       "| -1.42456929 |  0.8817793  | -0.23174762 |  0.26105311 |  2.65813909 | \n",
       "|  1.18918740 |  1.4014389  | -1.03322800 |  1.08300214 |  0.10125720 | \n",
       "\n",
       "\n"
      ],
      "text/plain": [
       "     [,1]        [,2]       [,3]        [,4]        [,5]       \n",
       "[1,]  1.88197239  1.3377528 -1.40486801 -1.16103779 -0.01199567\n",
       "[2,] -0.04126434 -0.6135734 -0.58287026 -0.88439691  0.14695688\n",
       "[3,]  1.11285255 -0.4700285 -0.09634355 -0.02215615 -0.27324187\n",
       "[4,]  0.41901097 -1.5040713 -2.22531480 -0.67388359  0.12130870\n",
       "[5,] -1.42456929  0.8817793 -0.23174762  0.26105311  2.65813909\n",
       "[6,]  1.18918740  1.4014389 -1.03322800  1.08300214  0.10125720"
      ]
     },
     "metadata": {},
     "output_type": "display_data"
    },
    {
     "data": {
      "text/html": [
       "<ol class=list-inline>\n",
       "\t<li>0.128364735267281</li>\n",
       "\t<li>-0.395029606476359</li>\n",
       "\t<li>0.050216499145522</li>\n",
       "\t<li>-0.772589996676772</li>\n",
       "\t<li>0.428930918871065</li>\n",
       "\t<li>0.548331519923312</li>\n",
       "</ol>\n"
      ],
      "text/latex": [
       "\\begin{enumerate*}\n",
       "\\item 0.128364735267281\n",
       "\\item -0.395029606476359\n",
       "\\item 0.050216499145522\n",
       "\\item -0.772589996676772\n",
       "\\item 0.428930918871065\n",
       "\\item 0.548331519923312\n",
       "\\end{enumerate*}\n"
      ],
      "text/markdown": [
       "1. 0.128364735267281\n",
       "2. -0.395029606476359\n",
       "3. 0.050216499145522\n",
       "4. -0.772589996676772\n",
       "5. 0.428930918871065\n",
       "6. 0.548331519923312\n",
       "\n",
       "\n"
      ],
      "text/plain": [
       "[1]  0.1283647 -0.3950296  0.0502165 -0.7725900  0.4289309  0.5483315"
      ]
     },
     "metadata": {},
     "output_type": "display_data"
    }
   ],
   "source": [
    "mydata <- matrix(rnorm(30),nrow=6)\n",
    "mydata\n",
    "\n",
    "apply(mydata,1,mean)"
   ]
  },
  {
   "cell_type": "markdown",
   "metadata": {},
   "source": [
    "apply(x,MARGIN,FUN,...)\n",
    "\n",
    "apply() 函数可以将任意函数应用到矩阵、数组和数据框的任何维度上\n",
    "\n",
    "而对应的处理 list的则是 lapply() 和 sapply()"
   ]
  },
  {
   "cell_type": "markdown",
   "metadata": {},
   "source": [
    "## 控制流\n",
    "\n",
    "+ 语句\n",
    "\n",
    "+ 条件\n",
    "\n",
    "+ 表达式\n",
    "\n",
    "+ 序列"
   ]
  },
  {
   "cell_type": "markdown",
   "metadata": {},
   "source": [
    "## 整合和重构\n",
    "\n",
    "### 转置"
   ]
  },
  {
   "cell_type": "code",
   "execution_count": 5,
   "metadata": {},
   "outputs": [
    {
     "data": {
      "text/html": [
       "<table>\n",
       "<thead><tr><th></th><th scope=col>mpg</th><th scope=col>cyl</th><th scope=col>disp</th><th scope=col>hp</th></tr></thead>\n",
       "<tbody>\n",
       "\t<tr><th scope=row>Mazda RX4</th><td>21.0</td><td>6   </td><td>160 </td><td>110 </td></tr>\n",
       "\t<tr><th scope=row>Mazda RX4 Wag</th><td>21.0</td><td>6   </td><td>160 </td><td>110 </td></tr>\n",
       "\t<tr><th scope=row>Datsun 710</th><td>22.8</td><td>4   </td><td>108 </td><td> 93 </td></tr>\n",
       "\t<tr><th scope=row>Hornet 4 Drive</th><td>21.4</td><td>6   </td><td>258 </td><td>110 </td></tr>\n",
       "\t<tr><th scope=row>Hornet Sportabout</th><td>18.7</td><td>8   </td><td>360 </td><td>175 </td></tr>\n",
       "</tbody>\n",
       "</table>\n"
      ],
      "text/latex": [
       "\\begin{tabular}{r|llll}\n",
       "  & mpg & cyl & disp & hp\\\\\n",
       "\\hline\n",
       "\tMazda RX4 & 21.0 & 6    & 160  & 110 \\\\\n",
       "\tMazda RX4 Wag & 21.0 & 6    & 160  & 110 \\\\\n",
       "\tDatsun 710 & 22.8 & 4    & 108  &  93 \\\\\n",
       "\tHornet 4 Drive & 21.4 & 6    & 258  & 110 \\\\\n",
       "\tHornet Sportabout & 18.7 & 8    & 360  & 175 \\\\\n",
       "\\end{tabular}\n"
      ],
      "text/markdown": [
       "\n",
       "| <!--/--> | mpg | cyl | disp | hp | \n",
       "|---|---|---|---|---|\n",
       "| Mazda RX4 | 21.0 | 6    | 160  | 110  | \n",
       "| Mazda RX4 Wag | 21.0 | 6    | 160  | 110  | \n",
       "| Datsun 710 | 22.8 | 4    | 108  |  93  | \n",
       "| Hornet 4 Drive | 21.4 | 6    | 258  | 110  | \n",
       "| Hornet Sportabout | 18.7 | 8    | 360  | 175  | \n",
       "\n",
       "\n"
      ],
      "text/plain": [
       "                  mpg  cyl disp hp \n",
       "Mazda RX4         21.0 6   160  110\n",
       "Mazda RX4 Wag     21.0 6   160  110\n",
       "Datsun 710        22.8 4   108   93\n",
       "Hornet 4 Drive    21.4 6   258  110\n",
       "Hornet Sportabout 18.7 8   360  175"
      ]
     },
     "metadata": {},
     "output_type": "display_data"
    },
    {
     "data": {
      "text/html": [
       "<table>\n",
       "<thead><tr><th></th><th scope=col>Mazda RX4</th><th scope=col>Mazda RX4 Wag</th><th scope=col>Datsun 710</th><th scope=col>Hornet 4 Drive</th><th scope=col>Hornet Sportabout</th></tr></thead>\n",
       "<tbody>\n",
       "\t<tr><th scope=row>mpg</th><td> 21  </td><td> 21  </td><td> 22.8</td><td> 21.4</td><td> 18.7</td></tr>\n",
       "\t<tr><th scope=row>cyl</th><td>  6  </td><td>  6  </td><td>  4.0</td><td>  6.0</td><td>  8.0</td></tr>\n",
       "\t<tr><th scope=row>disp</th><td>160  </td><td>160  </td><td>108.0</td><td>258.0</td><td>360.0</td></tr>\n",
       "\t<tr><th scope=row>hp</th><td>110  </td><td>110  </td><td> 93.0</td><td>110.0</td><td>175.0</td></tr>\n",
       "</tbody>\n",
       "</table>\n"
      ],
      "text/latex": [
       "\\begin{tabular}{r|lllll}\n",
       "  & Mazda RX4 & Mazda RX4 Wag & Datsun 710 & Hornet 4 Drive & Hornet Sportabout\\\\\n",
       "\\hline\n",
       "\tmpg &  21   &  21   &  22.8 &  21.4 &  18.7\\\\\n",
       "\tcyl &   6   &   6   &   4.0 &   6.0 &   8.0\\\\\n",
       "\tdisp & 160   & 160   & 108.0 & 258.0 & 360.0\\\\\n",
       "\thp & 110   & 110   &  93.0 & 110.0 & 175.0\\\\\n",
       "\\end{tabular}\n"
      ],
      "text/markdown": [
       "\n",
       "| <!--/--> | Mazda RX4 | Mazda RX4 Wag | Datsun 710 | Hornet 4 Drive | Hornet Sportabout | \n",
       "|---|---|---|---|\n",
       "| mpg |  21   |  21   |  22.8 |  21.4 |  18.7 | \n",
       "| cyl |   6   |   6   |   4.0 |   6.0 |   8.0 | \n",
       "| disp | 160   | 160   | 108.0 | 258.0 | 360.0 | \n",
       "| hp | 110   | 110   |  93.0 | 110.0 | 175.0 | \n",
       "\n",
       "\n"
      ],
      "text/plain": [
       "     Mazda RX4 Mazda RX4 Wag Datsun 710 Hornet 4 Drive Hornet Sportabout\n",
       "mpg   21        21            22.8       21.4           18.7            \n",
       "cyl    6         6             4.0        6.0            8.0            \n",
       "disp 160       160           108.0      258.0          360.0            \n",
       "hp   110       110            93.0      110.0          175.0            "
      ]
     },
     "metadata": {},
     "output_type": "display_data"
    }
   ],
   "source": [
    "cars <-mtcars[1:5,1:4]\n",
    "cars\n",
    "\n",
    "t(cars)"
   ]
  },
  {
   "cell_type": "markdown",
   "metadata": {},
   "source": [
    "### 整合数据\n",
    "aggregate(x,by,FUN)\n",
    "\n",
    "**reshape2包**\n"
   ]
  },
  {
   "cell_type": "code",
   "execution_count": 13,
   "metadata": {},
   "outputs": [
    {
     "data": {
      "text/html": [
       "<table>\n",
       "<thead><tr><th scope=col>ID</th><th scope=col>Time</th><th scope=col>X1</th><th scope=col>X2</th></tr></thead>\n",
       "<tbody>\n",
       "\t<tr><td>1</td><td>1</td><td>5</td><td>6</td></tr>\n",
       "\t<tr><td>1</td><td>2</td><td>3</td><td>5</td></tr>\n",
       "\t<tr><td>2</td><td>1</td><td>6</td><td>1</td></tr>\n",
       "\t<tr><td>2</td><td>2</td><td>2</td><td>4</td></tr>\n",
       "</tbody>\n",
       "</table>\n"
      ],
      "text/latex": [
       "\\begin{tabular}{r|llll}\n",
       " ID & Time & X1 & X2\\\\\n",
       "\\hline\n",
       "\t 1 & 1 & 5 & 6\\\\\n",
       "\t 1 & 2 & 3 & 5\\\\\n",
       "\t 2 & 1 & 6 & 1\\\\\n",
       "\t 2 & 2 & 2 & 4\\\\\n",
       "\\end{tabular}\n"
      ],
      "text/markdown": [
       "\n",
       "ID | Time | X1 | X2 | \n",
       "|---|---|---|---|\n",
       "| 1 | 1 | 5 | 6 | \n",
       "| 1 | 2 | 3 | 5 | \n",
       "| 2 | 1 | 6 | 1 | \n",
       "| 2 | 2 | 2 | 4 | \n",
       "\n",
       "\n"
      ],
      "text/plain": [
       "  ID Time X1 X2\n",
       "1 1  1    5  6 \n",
       "2 1  2    3  5 \n",
       "3 2  1    6  1 \n",
       "4 2  2    2  4 "
      ]
     },
     "metadata": {},
     "output_type": "display_data"
    }
   ],
   "source": [
    "ID = c(1,1,2,2)\n",
    "Time = c(1,2,1,2)\n",
    "X1 = c(5,3,6,2)\n",
    "X2 = c(6,5,1,4)\n",
    "\n",
    "mydata = data.frame(ID,Time,X1,X2)\n",
    "mydata"
   ]
  },
  {
   "cell_type": "markdown",
   "metadata": {},
   "source": [
    "1. 融合\n",
    "每个测试变量独占一行，行中要有唯一确定这个测量所需的标识符变量\n",
    "```\n",
    "library(reshape2)\n",
    "md <- melt(mydata, id = c(\"ID\",\"Time\"))\n",
    "md \n",
    "## Why this error?\n",
    "```\n",
    "2. 重铸\n",
    "\n",
    "newdata <- dcast(md,fomula,fun.aggregate)\n"
   ]
  }
 ],
 "metadata": {
  "kernelspec": {
   "display_name": "R",
   "language": "R",
   "name": "ir"
  },
  "language_info": {
   "codemirror_mode": "r",
   "file_extension": ".r",
   "mimetype": "text/x-r-source",
   "name": "R",
   "pygments_lexer": "r",
   "version": "3.5.1"
  },
  "toc": {
   "base_numbering": 1,
   "nav_menu": {},
   "number_sections": true,
   "sideBar": true,
   "skip_h1_title": false,
   "title_cell": "Table of Contents",
   "title_sidebar": "Contents",
   "toc_cell": false,
   "toc_position": {},
   "toc_section_display": true,
   "toc_window_display": false
  }
 },
 "nbformat": 4,
 "nbformat_minor": 2
}
