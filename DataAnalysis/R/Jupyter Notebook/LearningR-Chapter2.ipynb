{
 "cells": [
  {
   "cell_type": "markdown",
   "metadata": {},
   "source": [
    "# 第二章 创建数据集\n",
    "\n",
    "- 数据结构\n",
    "\n",
    "- 输入数据\n",
    "\n",
    "- 导入数据\n",
    "\n",
    "- 标注数据\n",
    "\n",
    "\n",
    "## 数据集的概念\n",
    "### 向量\n"
   ]
  },
  {
   "cell_type": "code",
   "execution_count": 1,
   "metadata": {},
   "outputs": [],
   "source": [
    "a <- c(1,2,3,4)"
   ]
  },
  {
   "cell_type": "code",
   "execution_count": 2,
   "metadata": {},
   "outputs": [
    {
     "name": "stdout",
     "output_type": "stream",
     "text": [
      "[1] 3\n",
      "[1] 1 3\n",
      "[1] 2 3 4\n"
     ]
    }
   ],
   "source": [
    "print(a[3])\n",
    "\n",
    "print(a[c(1,3)])\n",
    "\n",
    "print(a[2:4])"
   ]
  },
  {
   "cell_type": "markdown",
   "metadata": {},
   "source": [
    "### 矩阵"
   ]
  },
  {
   "cell_type": "code",
   "execution_count": 3,
   "metadata": {},
   "outputs": [
    {
     "name": "stdout",
     "output_type": "stream",
     "text": [
      "   C1 C2\n",
      "R1  1 26\n",
      "R2 24 68\n"
     ]
    }
   ],
   "source": [
    "cells <- c(1,26,24,68)\n",
    "\n",
    "rnames = c(\"R1\",\"R2\")\n",
    "\n",
    "cnames = c(\"C1\",\"C2\")\n",
    "\n",
    "mymatrix <- matrix(cells,nrow=2,ncol=2,byrow=TRUE,dimnames=list(rnames,cnames))\n",
    "\n",
    "print(mymatrix)"
   ]
  },
  {
   "cell_type": "code",
   "execution_count": 4,
   "metadata": {},
   "outputs": [
    {
     "name": "stdout",
     "output_type": "stream",
     "text": [
      "     [,1] [,2] [,3] [,4] [,5]\n",
      "[1,]    1    3    5    7    9\n",
      "[2,]    2    4    6    8   10\n",
      "[1]  2  4  6  8 10\n"
     ]
    }
   ],
   "source": [
    "x<-matrix(1:10,nrow=2)\n",
    "\n",
    "print(x)\n",
    "\n",
    "print(x[2,])\n"
   ]
  },
  {
   "cell_type": "markdown",
   "metadata": {},
   "source": [
    "### 数组\n",
    "R 中的数组和矩阵类似，但是可以大于2维\n",
    "myarray <- array(vector,dimensions,dimnames)"
   ]
  },
  {
   "cell_type": "code",
   "execution_count": 5,
   "metadata": {},
   "outputs": [
    {
     "name": "stdout",
     "output_type": "stream",
     "text": [
      ", , C1\n",
      "\n",
      "   B1 B2 B3\n",
      "A1  1  3  5\n",
      "A2  2  4  6\n",
      "\n",
      ", , C2\n",
      "\n",
      "   B1 B2 B3\n",
      "A1  7  9 11\n",
      "A2  8 10 12\n",
      "\n",
      ", , C3\n",
      "\n",
      "   B1 B2 B3\n",
      "A1 13 15 17\n",
      "A2 14 16 18\n",
      "\n",
      ", , C4\n",
      "\n",
      "   B1 B2 B3\n",
      "A1 19 21 23\n",
      "A2 20 22 24\n",
      "\n"
     ]
    }
   ],
   "source": [
    "dim1 <- c(\"A1\",\"A2\")\n",
    "\n",
    "dim2 <- c(\"B1\",\"B2\",\"B3\")\n",
    "\n",
    "dim3 <- c(\"C1\",\"C2\",\"C3\",\"C4\")\n",
    "\n",
    "z <- array(1:24,c(2,3,4),dimnames = list(dim1,dim2,dim3))\n",
    "\n",
    "print(z)"
   ]
  },
  {
   "cell_type": "markdown",
   "metadata": {},
   "source": [
    "### 数据框\n",
    "\n",
    "R 十分适合处理包含多种数据的数据，即使用数据框\n",
    "\n",
    "mydata <- data.frame(col1,col2,col3,...)\n"
   ]
  },
  {
   "cell_type": "code",
   "execution_count": 6,
   "metadata": {},
   "outputs": [
    {
     "data": {
      "text/html": [
       "<table>\n",
       "<thead><tr><th scope=col>patientID</th><th scope=col>age</th><th scope=col>diabetes</th><th scope=col>status</th></tr></thead>\n",
       "<tbody>\n",
       "\t<tr><td>1        </td><td>25       </td><td>Type1    </td><td>Poor     </td></tr>\n",
       "\t<tr><td>2        </td><td>34       </td><td>Type2    </td><td>Improved </td></tr>\n",
       "\t<tr><td>3        </td><td>28       </td><td>Type2    </td><td>Excellent</td></tr>\n",
       "\t<tr><td>4        </td><td>45       </td><td>Type1    </td><td>Poor     </td></tr>\n",
       "</tbody>\n",
       "</table>\n"
      ],
      "text/latex": [
       "\\begin{tabular}{r|llll}\n",
       " patientID & age & diabetes & status\\\\\n",
       "\\hline\n",
       "\t 1         & 25        & Type1     & Poor     \\\\\n",
       "\t 2         & 34        & Type2     & Improved \\\\\n",
       "\t 3         & 28        & Type2     & Excellent\\\\\n",
       "\t 4         & 45        & Type1     & Poor     \\\\\n",
       "\\end{tabular}\n"
      ],
      "text/markdown": [
       "\n",
       "patientID | age | diabetes | status | \n",
       "|---|---|---|---|\n",
       "| 1         | 25        | Type1     | Poor      | \n",
       "| 2         | 34        | Type2     | Improved  | \n",
       "| 3         | 28        | Type2     | Excellent | \n",
       "| 4         | 45        | Type1     | Poor      | \n",
       "\n",
       "\n"
      ],
      "text/plain": [
       "  patientID age diabetes status   \n",
       "1 1         25  Type1    Poor     \n",
       "2 2         34  Type2    Improved \n",
       "3 3         28  Type2    Excellent\n",
       "4 4         45  Type1    Poor     "
      ]
     },
     "metadata": {},
     "output_type": "display_data"
    },
    {
     "data": {
      "text/html": [
       "<table>\n",
       "<thead><tr><th scope=col>patientID</th><th scope=col>age</th></tr></thead>\n",
       "<tbody>\n",
       "\t<tr><td>1 </td><td>25</td></tr>\n",
       "\t<tr><td>2 </td><td>34</td></tr>\n",
       "\t<tr><td>3 </td><td>28</td></tr>\n",
       "\t<tr><td>4 </td><td>45</td></tr>\n",
       "</tbody>\n",
       "</table>\n"
      ],
      "text/latex": [
       "\\begin{tabular}{r|ll}\n",
       " patientID & age\\\\\n",
       "\\hline\n",
       "\t 1  & 25\\\\\n",
       "\t 2  & 34\\\\\n",
       "\t 3  & 28\\\\\n",
       "\t 4  & 45\\\\\n",
       "\\end{tabular}\n"
      ],
      "text/markdown": [
       "\n",
       "patientID | age | \n",
       "|---|---|---|---|\n",
       "| 1  | 25 | \n",
       "| 2  | 34 | \n",
       "| 3  | 28 | \n",
       "| 4  | 45 | \n",
       "\n",
       "\n"
      ],
      "text/plain": [
       "  patientID age\n",
       "1 1         25 \n",
       "2 2         34 \n",
       "3 3         28 \n",
       "4 4         45 "
      ]
     },
     "metadata": {},
     "output_type": "display_data"
    },
    {
     "data": {
      "text/html": [
       "<table>\n",
       "<thead><tr><th scope=col>diabetes</th><th scope=col>status</th></tr></thead>\n",
       "<tbody>\n",
       "\t<tr><td>Type1    </td><td>Poor     </td></tr>\n",
       "\t<tr><td>Type2    </td><td>Improved </td></tr>\n",
       "\t<tr><td>Type2    </td><td>Excellent</td></tr>\n",
       "\t<tr><td>Type1    </td><td>Poor     </td></tr>\n",
       "</tbody>\n",
       "</table>\n"
      ],
      "text/latex": [
       "\\begin{tabular}{r|ll}\n",
       " diabetes & status\\\\\n",
       "\\hline\n",
       "\t Type1     & Poor     \\\\\n",
       "\t Type2     & Improved \\\\\n",
       "\t Type2     & Excellent\\\\\n",
       "\t Type1     & Poor     \\\\\n",
       "\\end{tabular}\n"
      ],
      "text/markdown": [
       "\n",
       "diabetes | status | \n",
       "|---|---|---|---|\n",
       "| Type1     | Poor      | \n",
       "| Type2     | Improved  | \n",
       "| Type2     | Excellent | \n",
       "| Type1     | Poor      | \n",
       "\n",
       "\n"
      ],
      "text/plain": [
       "  diabetes status   \n",
       "1 Type1    Poor     \n",
       "2 Type2    Improved \n",
       "3 Type2    Excellent\n",
       "4 Type1    Poor     "
      ]
     },
     "metadata": {},
     "output_type": "display_data"
    },
    {
     "data": {
      "text/html": [
       "<ol class=list-inline>\n",
       "\t<li>25</li>\n",
       "\t<li>34</li>\n",
       "\t<li>28</li>\n",
       "\t<li>45</li>\n",
       "</ol>\n"
      ],
      "text/latex": [
       "\\begin{enumerate*}\n",
       "\\item 25\n",
       "\\item 34\n",
       "\\item 28\n",
       "\\item 45\n",
       "\\end{enumerate*}\n"
      ],
      "text/markdown": [
       "1. 25\n",
       "2. 34\n",
       "3. 28\n",
       "4. 45\n",
       "\n",
       "\n"
      ],
      "text/plain": [
       "[1] 25 34 28 45"
      ]
     },
     "metadata": {},
     "output_type": "display_data"
    }
   ],
   "source": [
    "patientID <- c(1,2,3,4)\n",
    "\n",
    "age <- c(25,34,28,45)\n",
    "\n",
    "diabetes <- c(\"Type1\",\"Type2\",\"Type2\",\"Type1\")\n",
    "\n",
    "status <- c(\"Poor\",\"Improved\",\"Excellent\",\"Poor\")\n",
    "\n",
    "patientdata <- data.frame(patientID,age,diabetes,status)\n",
    "\n",
    "patientdata\n",
    "\n",
    "patientdata[1:2]\n",
    "\n",
    "patientdata[c(\"diabetes\",\"status\")]\n",
    "\n",
    "patientdata$age"
   ]
  },
  {
   "cell_type": "markdown",
   "metadata": {},
   "source": [
    "上图中的符号 $ 为选定给定数据框中的某个特定变量，还可以利用其生成列联表"
   ]
  },
  {
   "cell_type": "code",
   "execution_count": 7,
   "metadata": {},
   "outputs": [
    {
     "data": {
      "text/plain": [
       "       \n",
       "        Excellent Improved Poor\n",
       "  Type1         0        0    2\n",
       "  Type2         1        1    0"
      ]
     },
     "metadata": {},
     "output_type": "display_data"
    }
   ],
   "source": [
    "table(patientdata$diabetes,patientdata$status)"
   ]
  },
  {
   "cell_type": "markdown",
   "metadata": {},
   "source": [
    "- 使用attach() detach() 和 with()\n",
    "\n",
    "函数 attach() 将数据框添加到R的搜索路径中"
   ]
  },
  {
   "cell_type": "code",
   "execution_count": 8,
   "metadata": {},
   "outputs": [
    {
     "data": {
      "text/plain": [
       "   Min. 1st Qu.  Median    Mean 3rd Qu.    Max. \n",
       "  10.40   15.43   19.20   20.09   22.80   33.90 "
      ]
     },
     "metadata": {},
     "output_type": "display_data"
    },
    {
     "data": {
      "image/png": "[encoded data removed]",
      "text/plain": [
       "plot without title"
      ]
     },
     "metadata": {},
     "output_type": "display_data"
    },
    {
     "data": {
      "text/plain": [
       "   Min. 1st Qu.  Median    Mean 3rd Qu.    Max. \n",
       "  10.40   15.43   19.20   20.09   22.80   33.90 "
      ]
     },
     "metadata": {},
     "output_type": "display_data"
    },
    {
     "data": {
      "image/png": "[encoded data removed]",
      "text/plain": [
       "plot without title"
      ]
     },
     "metadata": {},
     "output_type": "display_data"
    },
    {
     "data": {
      "image/png": "[encoded data removed]",
      "text/plain": [
       "plot without title"
      ]
     },
     "metadata": {},
     "output_type": "display_data"
    },
    {
     "data": {
      "image/png": "[encoded data removed]",
      "text/plain": [
       "plot without title"
      ]
     },
     "metadata": {},
     "output_type": "display_data"
    }
   ],
   "source": [
    "summary(mtcars$mpg)\n",
    "\n",
    "plot(mtcars$mpg,mtcars$disp)\n",
    "\n",
    "plot(mtcars$mpg,mtcars$wt)\n",
    "\n",
    "#also can using\n",
    "\n",
    "attach(mtcars)\n",
    "\n",
    "summary(mpg)\n",
    "\n",
    "plot(mpg,disp)\n",
    "\n",
    "plot(mpg,wt)"
   ]
  },
  {
   "cell_type": "markdown",
   "metadata": {},
   "source": [
    "函数 detach() 则是将数据框移除（应该被例行地放入代码中）\n",
    "\n",
    "但是当名称相同的变量不止一个的时候，这个方法就有着很大的局限性\n",
    "\n",
    "此时可以使用函数 with()"
   ]
  },
  {
   "cell_type": "code",
   "execution_count": 9,
   "metadata": {},
   "outputs": [
    {
     "name": "stdout",
     "output_type": "stream",
     "text": [
      "   Min. 1st Qu.  Median    Mean 3rd Qu.    Max. \n",
      "  10.40   15.43   19.20   20.09   22.80   33.90 \n"
     ]
    },
    {
     "data": {
      "image/png": "[encoded data removed]",
      "text/plain": [
       "plot without title"
      ]
     },
     "metadata": {},
     "output_type": "display_data"
    },
    {
     "data": {
      "image/png": "[encoded data removed]",
      "text/plain": [
       "plot without title"
      ]
     },
     "metadata": {},
     "output_type": "display_data"
    }
   ],
   "source": [
    "with(mtcars,{\n",
    "    print(summary(mpg))\n",
    "    plot(mpg,disp)\n",
    "    plot(mpg,wt)\n",
    "})\n",
    "\n",
    "with(mtcars,{\n",
    "    nokeepstatus <- summary(mpg)\n",
    "    keepstatus <- summary(mpg)\n",
    "})"
   ]
  },
  {
   "cell_type": "markdown",
   "metadata": {},
   "source": [
    "+ 实例标识符\n",
    "\n",
    "可以使用 rowname 指定数据集中不同个体的区分，如\n",
    "\n",
    "patientdata <- data.frame(patientID,age,diabetes,status,row.names=patientID)"
   ]
  },
  {
   "cell_type": "markdown",
   "metadata": {},
   "source": [
    "### 因子\n",
    "\n",
    "类别变量和有序变量在 R 中称为 因子(factor)。因子对于数据分析和视觉呈现十分重要"
   ]
  },
  {
   "cell_type": "markdown",
   "metadata": {},
   "source": [
    "### 列表\n",
    "\n",
    "列表内部可以存放任何数据结构"
   ]
  },
  {
   "cell_type": "code",
   "execution_count": 10,
   "metadata": {},
   "outputs": [
    {
     "name": "stdout",
     "output_type": "stream",
     "text": [
      "$title\n",
      "[1] \"my list\"\n",
      "\n",
      "$ages\n",
      "[1] 24 34 26 67\n",
      "\n",
      "[[3]]\n",
      "     [,1] [,2]\n",
      "[1,]    1    6\n",
      "[2,]    2    7\n",
      "[3,]    3    8\n",
      "[4,]    4    9\n",
      "[5,]    5   10\n",
      "\n",
      "[[4]]\n",
      "[1] \"ones\"  \"two\"   \"three\"\n",
      "\n"
     ]
    },
    {
     "data": {
      "text/html": [
       "<ol class=list-inline>\n",
       "\t<li>24</li>\n",
       "\t<li>34</li>\n",
       "\t<li>26</li>\n",
       "\t<li>67</li>\n",
       "</ol>\n"
      ],
      "text/latex": [
       "\\begin{enumerate*}\n",
       "\\item 24\n",
       "\\item 34\n",
       "\\item 26\n",
       "\\item 67\n",
       "\\end{enumerate*}\n"
      ],
      "text/markdown": [
       "1. 24\n",
       "2. 34\n",
       "3. 26\n",
       "4. 67\n",
       "\n",
       "\n"
      ],
      "text/plain": [
       "[1] 24 34 26 67"
      ]
     },
     "metadata": {},
     "output_type": "display_data"
    },
    {
     "data": {
      "text/html": [
       "<ol class=list-inline>\n",
       "\t<li>24</li>\n",
       "\t<li>34</li>\n",
       "\t<li>26</li>\n",
       "\t<li>67</li>\n",
       "</ol>\n"
      ],
      "text/latex": [
       "\\begin{enumerate*}\n",
       "\\item 24\n",
       "\\item 34\n",
       "\\item 26\n",
       "\\item 67\n",
       "\\end{enumerate*}\n"
      ],
      "text/markdown": [
       "1. 24\n",
       "2. 34\n",
       "3. 26\n",
       "4. 67\n",
       "\n",
       "\n"
      ],
      "text/plain": [
       "[1] 24 34 26 67"
      ]
     },
     "metadata": {},
     "output_type": "display_data"
    }
   ],
   "source": [
    "g <-\"my list\"\n",
    "\n",
    "h <-c(24,34,26,67)\n",
    "\n",
    "j <- matrix(1:10,nrow=5)\n",
    "\n",
    "k <-c(\"ones\",\"two\",\"three\")\n",
    "\n",
    "mylist <- list(title=g,ages = h,j,k)\n",
    "\n",
    "print(mylist)\n",
    "\n",
    "mylist[[2]]\n",
    "\n",
    "mylist[[\"ages\"]]"
   ]
  },
  {
   "cell_type": "markdown",
   "metadata": {},
   "source": [
    "## 数据的输入\n",
    "\n",
    "+ 从带分隔符的文本文件导入数据\n",
    "\n",
    "mydataframe <- read.table(file,options)\n",
    "\n",
    "+ 导入 excel 数据\n",
    "\n",
    "library(xlsx)\n",
    "\n",
    "workbook <-\"c:/myworkbook,xlsx\"\n",
    "\n",
    "mydataframe <- read.xlsx(workbook,1)\n",
    "\n",
    "+ 导入 SPSS数据\n",
    "\n",
    "+ 导入 SAS数据\n",
    "\n",
    "+ 导入 Stata 数据\n",
    "\n",
    "+ 访问数据库管理系统\n",
    "\n",
    "   ODBC接口 "
   ]
  }
 ],
 "metadata": {
  "kernelspec": {
   "display_name": "R",
   "language": "R",
   "name": "ir"
  },
  "language_info": {
   "codemirror_mode": "r",
   "file_extension": ".r",
   "mimetype": "text/x-r-source",
   "name": "R",
   "pygments_lexer": "r",
   "version": "3.5.1"
  }
 },
 "nbformat": 4,
 "nbformat_minor": 2
}
