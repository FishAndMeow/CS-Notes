{
 "cells": [
  {
   "cell_type": "markdown",
   "metadata": {},
   "source": [
    "# Chapter 2 Numpy\n",
    "## Numpy Arrays\n",
    "\n",
    "It adds the capabilities of N-dimensional arrays, element-by-element operations (broadcasting), core\n",
    "mathematical operations like linear algebra, and the ability to wrap C/C++/Fortran\n",
    "code. \n",
    "\n",
    "The Python list object can store nearly any type of Python object as\n",
    "an element. But operating on the elements in a list can only be done through iterative\n",
    "loops, which is computationally inefficient in Python.\n",
    "\n",
    "The ndarray is similar to lists, but rather than being highly flexible by storing different\n",
    "types of objects in one list, only the same type of element can be stored in each column.\n",
    "\n",
    "Unlike the ndarray objects, matrix objects can and only will be two dimensional. This\n",
    "means that trying to construct a third or higher dimension is not possible.\n",
    "\n",
    "### Array Creation and Data Typing"
   ]
  },
  {
   "cell_type": "code",
   "execution_count": 14,
   "metadata": {},
   "outputs": [
    {
     "data": {
      "text/plain": [
       "array([[[1, 1, 1],\n",
       "        [1, 1, 1],\n",
       "        [1, 1, 1]],\n",
       "\n",
       "       [[1, 1, 1],\n",
       "        [1, 1, 1],\n",
       "        [1, 1, 1]],\n",
       "\n",
       "       [[1, 1, 1],\n",
       "        [1, 1, 1],\n",
       "        [1, 1, 1]]])"
      ]
     },
     "execution_count": 14,
     "metadata": {},
     "output_type": "execute_result"
    }
   ],
   "source": [
    "# How to create an array in Munpy\n",
    "\n",
    "import numpy as np\n",
    "\n",
    "alist = [1,2,3]\n",
    "\n",
    "arr = np.array(alist)\n",
    "\n",
    "arr = np.zeros(5)\n",
    "\n",
    "arr = np.arange(100)\n",
    "\n",
    "arr = np.linspace(0,1,100)\n",
    "\n",
    "arr = np.logspace(0,1,100,base=10.0)\n",
    "\n",
    "image = np.zeros((5,5))\n",
    "\n",
    "cube = np.zeros((3,3,3)).astype(int) + 1 "
   ]
  },
  {
   "cell_type": "markdown",
   "metadata": {},
   "source": [
    "Now that we have created arrays, we can reshape them in many other ways."
   ]
  },
  {
   "cell_type": "code",
   "execution_count": 16,
   "metadata": {},
   "outputs": [
    {
     "name": "stdout",
     "output_type": "stream",
     "text": [
      "(100,)\n"
     ]
    }
   ],
   "source": [
    "arr1d = np.arange(1000)\n",
    "\n",
    "arr3d = arr1d.reshape((10,10,10))\n",
    "\n",
    "arr3d = np.reshape(arr1d,(10,10,10))\n",
    "\n",
    "# Inversely, we can flatten arrays\n",
    "\n",
    "arr2d = np.zeros((10,10))\n",
    "\n",
    "arr1d = arr2d.ravel()\n",
    "\n",
    "print(arr1d.shape)"
   ]
  },
  {
   "cell_type": "markdown",
   "metadata": {},
   "source": [
    "in Python there is a global function called zip that will create a list of tuples\n",
    "like we see above for the toadd object. So we show how to use zip to populate the same\n",
    "recarray."
   ]
  },
  {
   "cell_type": "markdown",
   "metadata": {},
   "source": [
    "### Indexing and Slicing\n",
    "\n"
   ]
  },
  {
   "cell_type": "code",
   "execution_count": 25,
   "metadata": {},
   "outputs": [
    {
     "name": "stdout",
     "output_type": "stream",
     "text": [
      "2\n",
      "[2 4]\n",
      "[3 4]\n"
     ]
    }
   ],
   "source": [
    "alist = [[1,2],[3,4]]\n",
    "\n",
    "alist[0][1]\n",
    "\n",
    "# If we want to return the right-hand column\n",
    "\n",
    "arr = np.array(alist)\n",
    "\n",
    "print(arr[0,1])\n",
    "\n",
    "print(arr[:,1]) # the last coloum\n",
    "\n",
    "print(arr[1,:]) # the botomn row"
   ]
  },
  {
   "cell_type": "markdown",
   "metadata": {},
   "source": [
    "Sometimes there are more complex indexing schemes required, such as conditional\n",
    "indexing. The most commonly used type is numpy.where(). With this function you can\n",
    "return the desired indices from an array, regardless of its dimensions, based on some\n",
    "conditions(s)."
   ]
  },
  {
   "cell_type": "code",
   "execution_count": 28,
   "metadata": {},
   "outputs": [
    {
     "name": "stdout",
     "output_type": "stream",
     "text": [
      "(array([3, 4], dtype=int64),)\n",
      "[3 4]\n"
     ]
    }
   ],
   "source": [
    "# Creating an array\n",
    "arr = np.arange(5)\n",
    "# Creating the index array\n",
    "index = np.where(arr > 2)\n",
    "print(index)\n",
    "# Creating the desired array\n",
    "new_arr = arr[index]\n",
    "print(new_arr)"
   ]
  },
  {
   "cell_type": "markdown",
   "metadata": {},
   "source": [
    "However, you may want to remove specific indices instead. To do this you can use\n",
    "numpy.delete(). The required input variables are the array and indices that you want\n",
    "to remove."
   ]
  },
  {
   "cell_type": "code",
   "execution_count": 29,
   "metadata": {},
   "outputs": [
    {
     "name": "stdout",
     "output_type": "stream",
     "text": [
      "[0 1 2]\n"
     ]
    }
   ],
   "source": [
    "new_arr = np.delete(arr, index)\n",
    "\n",
    "print(new_arr)"
   ]
  },
  {
   "cell_type": "markdown",
   "metadata": {},
   "source": [
    "Instead of using the numpy.where function, we can use a simple boolean array to return\n",
    "specific elements"
   ]
  },
  {
   "cell_type": "code",
   "execution_count": 31,
   "metadata": {},
   "outputs": [
    {
     "name": "stdout",
     "output_type": "stream",
     "text": [
      "[False False False  True  True]\n",
      "[3 4]\n"
     ]
    }
   ],
   "source": [
    "index = arr > 2\n",
    "print(index)\n",
    "\n",
    "new_arr = arr[index]\n",
    "\n",
    "print(new_arr)"
   ]
  },
  {
   "cell_type": "markdown",
   "metadata": {},
   "source": [
    "## Boolean Statements and Numpy Arrays\n",
    "Boolean statements are commonly used in combination with the and operator and the\n",
    "or operator. These operators are useful when comparing single boolean values to one\n",
    "another, but when using NumPy arrays, you can only use & and | as this allows fast\n",
    "comparisons of boolean values.\n"
   ]
  },
  {
   "cell_type": "code",
   "execution_count": 36,
   "metadata": {},
   "outputs": [],
   "source": [
    "# Creating an image\n",
    "img1 = np.zeros((20, 20)) + 3\n",
    "img1[4:-4, 4:-4] = 6\n",
    "img1[7:-7, 7:-7] = 9\n",
    "# See Plot A\n",
    "# Let's filter out all values larger than 2 and less than 6.\n",
    "index1 = img1 > 2\n",
    "index2 = img1 < 6\n",
    "compound_index = index1 & index2\n",
    "# The compound statement can alternatively be written as\n",
    "compound_index = (img1 > 3) & (img1 < 7)\n",
    "img2 = np.copy(img1)\n",
    "img2[compound_index] = 0\n",
    "# See Plot B.\n",
    "# Making the boolean arrays even more complex\n",
    "index3 = img1 == 9\n",
    "index4 = (index1 & index2) | index3\n",
    "img3 = np.copy(img1)\n",
    "img3[index4] = 0\n",
    "# See Plot C."
   ]
  },
  {
   "cell_type": "markdown",
   "metadata": {},
   "source": [
    "### Text Files\n",
    "\n",
    "Accessing and recording data this way can be very flexible and fast, but there is one\n",
    "downside: if the file is large, then accessing or modulating the data will be cumbersome\n",
    "and slow. Getting the data directly into a numpy.ndarray would be the best option. We\n",
    "can do this by using a NumPy function called loadtxt. If the data is structured with\n",
    "rows and columns, then the loadtxt command will work very well as long as all the data\n",
    "is of a similar type, i.e., integers or floats. We can save the data through numpy.savetxt\n",
    "as easily and quickly as with numpy.readtxt.\n",
    "\n",
    "### Binary Files\n",
    "\n",
    "## Math\n",
    "Python comes with its own math module that works on Python native objects. Unfortunately, if you try to use math.cos on a NumPy array, it will not work, as the math\n",
    "functions are meant to operate on elements and not on lists or arrays. Hence, NumPy\n",
    "comes with its own set of math tools.\n",
    "\n",
    "### Linear Algebra\n",
    "NumPy arrays do not behave like matrices in linear algebra by default. Instead, the\n",
    "operations are mapped from each element in one array onto the next. This is quite\n",
    "a useful feature, as loop operations can be done away with for efficiency. But what\n",
    "about when transposing or a dot multiplication are needed? Without invoking other\n",
    "classes, you can use the built-in numpy.dot and numpy.transpose to do such operations.\n",
    "The syntax is Pythonic, so it is intuitive to program. Or the math purist can use\n",
    "the numpy.matrix object instead. We will go over both examples below to illustrate\n",
    "the differences and similarities between the two options. More importantly, we will\n",
    "compare some of the advantages and disadvantages between the numpy.array and the\n",
    "numpy.matrix objects.\n",
    "\n",
    "A classic example is solving a system of equations:\n",
    "\n",
    "$$\n",
    "\\begin{aligned} 3 x + 6 y - 5 z & = 12 \\\\ x - 3 y + 2 z & = - 2 \\\\ 5 x - y + 4 z & = 10 \\end{aligned}\n",
    "$$\n",
    "\n",
    "$$\n",
    "\\left[ \\begin{array} { c c c } { 3 } & { 6 } & { - 5 } \\\\ { 1 } & { - 3 } & { 2 } \\\\ { 5 } & { - 1 } & { 4 } \\end{array} \\right] \\left[ \\begin{array} { l } { x } \\\\ { y } \\\\ { z } \\end{array} \\right] = \\left[ \\begin{array} { c } { 12 } \\\\ { - 2 } \\\\ { 10 } \\end{array} \\right]\n",
    "$$\n"
   ]
  },
  {
   "cell_type": "code",
   "execution_count": 38,
   "metadata": {},
   "outputs": [
    {
     "name": "stdout",
     "output_type": "stream",
     "text": [
      "[[1.75]\n",
      " [1.75]\n",
      " [0.75]]\n"
     ]
    }
   ],
   "source": [
    "import numpy as np\n",
    "# Defining the matrices\n",
    "A = np.matrix([[3, 6, -5],\n",
    "[1, -3, 2],\n",
    "[5, -1, 4]])\n",
    "B = np.matrix([[12],\n",
    "[-2],\n",
    "[10]])\n",
    "# Solving for the variables, where we invert A\n",
    "X = A ** (-1) * B\n",
    "print(X)\n",
    "# matrix([[ 1.75],\n",
    "# [ 1.75],\n",
    "# [ 0.75]])"
   ]
  },
  {
   "cell_type": "markdown",
   "metadata": {},
   "source": [
    "+ Not all matrices are invertible, so this method of solving for solutions\n",
    "in a system does not always work. You can sidestep this problem by\n",
    "using numpy.linalg.svd,5 which usually works well inverting poorly\n",
    "conditioned matrices.\n"
   ]
  },
  {
   "cell_type": "code",
   "execution_count": 39,
   "metadata": {},
   "outputs": [
    {
     "name": "stdout",
     "output_type": "stream",
     "text": [
      "[1.75 1.75 0.75]\n"
     ]
    }
   ],
   "source": [
    "import numpy as np\n",
    "a = np.array([[3, 6, -5],\n",
    "[1, -3, 2],\n",
    "[5, -1, 4]])\n",
    "# Defining the array\n",
    "b = np.array([12, -2, 10])\n",
    "# Solving for the variables, where we invert A\n",
    "x = np.linalg.inv(a).dot(b)\n",
    "print(x)\n"
   ]
  },
  {
   "cell_type": "markdown",
   "metadata": {},
   "source": [
    "# Chapter 3 Scipy\n",
    "Where does SciPy come into the picture? It’s a package that utilizes NumPy arrays and manipulations to\n",
    "take on standard problems that scientists and engineers commonly face: integration,\n",
    "determining a function’s maxima or minima, finding eigenvectors for large sparse\n",
    "matrices, testing whether two distributions are the same, and much more. \n",
    "\n",
    "## Optimization and Minimization\n",
    "\n",
    "### Data Modeling and Fitting\n",
    "\n",
    "curve_fit to do linear regression\n",
    "\n",
    "\n"
   ]
  },
  {
   "cell_type": "code",
   "execution_count": 45,
   "metadata": {},
   "outputs": [
    {
     "name": "stdout",
     "output_type": "stream",
     "text": [
      "[1.00438534 2.00521295]\n"
     ]
    },
    {
     "data": {
      "image/png": "[encoded data removed]",
      "text/plain": [
       "<matplotlib.figure.Figure at 0x1a1068c4f60>"
      ]
     },
     "metadata": {
      "needs_background": "light"
     },
     "output_type": "display_data"
    }
   ],
   "source": [
    "import numpy as np\n",
    "import matplotlib.pyplot as plt\n",
    "from scipy.optimize import curve_fit\n",
    "# Creating a function to model and create data\n",
    "def func(x, a, b):\n",
    "    return a * x + b\n",
    "# Generating clean data\n",
    "x = np.linspace(0, 10, 100)\n",
    "y = func(x, 1, 2)\n",
    "# Adding noise to the data\n",
    "yn = y + 0.9 * np.random.normal(size=len(x))\n",
    "# Executing curve_fit on noisy data\n",
    "popt, pcov = curve_fit(func, x, yn)\n",
    "# popt returns the best fit values for parameters of\n",
    "# the given model (func).\n",
    "print(popt)\n",
    "\n",
    "yy = func(x,popt[0],popt[1])\n",
    "\n",
    "\n",
    "plt.figure()\n",
    "\n",
    "plt.plot(x,yn)\n",
    "plt.plot(x,yy)\n",
    "plt.show()"
   ]
  },
  {
   "cell_type": "markdown",
   "metadata": {},
   "source": [
    "Take this a step further, we can do a least-squares fit to a Gaussian profile, a non-linear\n",
    "function:\n",
    "\n",
    "$$\n",
    "a * \\exp \\left( \\frac { - ( x - \\mu ) ^ { 2 } } { 2 \\sigma ^ { 2 } } \\right)\n",
    "$$\n",
    "\n"
   ]
  },
  {
   "cell_type": "code",
   "execution_count": 49,
   "metadata": {},
   "outputs": [
    {
     "name": "stdout",
     "output_type": "stream",
     "text": [
      "[ 1.077216    5.07238956 -1.822921  ]\n"
     ]
    },
    {
     "data": {
      "image/png": "[encoded data removed]",
      "text/plain": [
       "<matplotlib.figure.Figure at 0x1a106bdba20>"
      ]
     },
     "metadata": {
      "needs_background": "light"
     },
     "output_type": "display_data"
    }
   ],
   "source": [
    "# Creating a function to model and create data\n",
    "def func(x, a, b, c):\n",
    "    return a*np.exp(-(x-b)**2/(2*c**2))\n",
    "# Generating clean data\n",
    "x = np.linspace(0, 10, 100)\n",
    "y = func(x, 1, 5, 2)\n",
    "# Adding noise to the data\n",
    "yn = y + 0.2 * np.random.normal(size=len(x))\n",
    "# Executing curve_fit on noisy data\n",
    "popt, pcov = curve_fit(func, x, yn)\n",
    "print(popt)\n",
    "\n",
    "import matplotlib.pyplot as plt\n",
    "\n",
    "yy = func(x,popt[0],popt[1],popt[2])\n",
    "\n",
    "plt.figure()\n",
    "plt.plot(x,yn)\n",
    "plt.plot(x,yy)\n",
    "plt.show()"
   ]
  },
  {
   "cell_type": "code",
   "execution_count": null,
   "metadata": {},
   "outputs": [],
   "source": [
    "# Two-Gaussian model\n",
    "def func(x, a0, b0, c0, a1, b1,c1):\n",
    "return a0*np.exp(-(x - b0) ** 2/(2 * c0 ** 2))\\\n",
    "+ a1 * np.exp(-(x - b1) ** 2/(2 * c1 ** 2))\n",
    "# Generating clean data\n",
    "x = np.linspace(0, 20, 200)\n",
    "y = func(x, 1, 3, 1, -2, 15, 0.5)\n",
    "# Adding noise to the data\n",
    "yn = y + 0.2 * np.random.normal(size=len(x))\n",
    "# Since we are fitting a more complex function,\n",
    "# providing guesses for the fitting will lead to\n",
    "# better results.\n",
    "guesses = [1, 3, 1, 1, 15, 1]\n",
    "# Executing curve_fit on noisy data\n",
    "popt, pcov = curve_fit(func, x, yn,\n",
    "p0=guesses)"
   ]
  },
  {
   "cell_type": "markdown",
   "metadata": {},
   "source": [
    "### Solutions to Functions\n",
    "With data modeling and fitting under our belts, we can move on to finding solutions,\n",
    "such as “What is the root of a function?” or “Where do two functions intersect?” SciPy\n",
    "provides an arsenal of tools to do this in the optimize module.\n"
   ]
  },
  {
   "cell_type": "code",
   "execution_count": 51,
   "metadata": {},
   "outputs": [
    {
     "name": "stdout",
     "output_type": "stream",
     "text": [
      "[-3.]\n"
     ]
    }
   ],
   "source": [
    "from scipy.optimize import fsolve\n",
    "import numpy as np\n",
    "line = lambda x: x + 3\n",
    "solution = fsolve(line, -2)\n",
    "print(solution)"
   ]
  },
  {
   "cell_type": "markdown",
   "metadata": {},
   "source": [
    "Finding the intersection points between two equations is nearly as simple"
   ]
  },
  {
   "cell_type": "code",
   "execution_count": 60,
   "metadata": {},
   "outputs": [
    {
     "name": "stdout",
     "output_type": "stream",
     "text": [
      "[13.40773078 18.11366128 31.78330863 37.0799992  39.84837786 43.8258775 ] [-0.36592269 -0.31886339 -0.18216691 -0.12920001 -0.10151622 -0.06174122]\n"
     ]
    },
    {
     "data": {
      "image/png": "[encoded data removed]",
      "text/plain": [
       "<matplotlib.figure.Figure at 0x1a109321f60>"
      ]
     },
     "metadata": {
      "needs_background": "light"
     },
     "output_type": "display_data"
    }
   ],
   "source": [
    "from scipy.optimize import fsolve\n",
    "import numpy as np\n",
    "# Defining function to simplify intersection solution\n",
    "def findIntersection(func1, func2, x0):\n",
    "    return fsolve(lambda x : func1(x) - func2(x), x0)\n",
    "# Defining functions that will intersect\n",
    "funky = lambda x : np.cos(x / 5) * np.sin(x / 2)\n",
    "line = lambda x : 0.01 * x - 0.5\n",
    "# Defining range and getting solutions on intersection points\n",
    "x = np.linspace(0,45,10000)\n",
    "result = findIntersection(funky, line, [15, 20, 30, 35, 40, 45])\n",
    "# Printing out results for x and y\n",
    "print(result, line(result))\n",
    "\n",
    "\n",
    "funky_y = np.cos(x/5) * np.sin(x/2)\n",
    "line_y = 0.01*x - 0.5\n",
    "plt.figure()\n",
    "plt.plot(x,funky_y)\n",
    "plt.plot(x,line_y)\n",
    "plt.plot(result,line(result))\n",
    "plt.show()\n"
   ]
  },
  {
   "cell_type": "markdown",
   "metadata": {},
   "source": [
    "## Interpolation\n",
    "Data that contains information usually has a functional form, and as analysts we want\n",
    "to model it. Given a set of sample data, obtaining the intermediate values between the\n",
    "points is useful to understand and predict what the data will do in the non-sampled domain. SciPy offers well over a dozen different functions for interpolation, ranging from\n",
    "those for simple univariate cases to those for complex multivariate ones. Univariate\n",
    "interpolation is used when the sampled data is likely led by one independent variable, whereas multivariate interpolation assumes there is more than one independent\n",
    "variable.\n",
    "\n",
    "There are two basic methods of interpolation: (1) Fit one function to an entire dataset\n",
    "or (2) fit different parts of the dataset with several functions where the joints of each\n",
    "function are joined smoothly. The second type is known as a spline interpolation, which\n",
    "can be a very powerful tool when the functional form of data is complex.\n",
    "\n",
    "\n"
   ]
  },
  {
   "cell_type": "code",
   "execution_count": 70,
   "metadata": {},
   "outputs": [
    {
     "data": {
      "text/plain": [
       "Text(0.5,1,'Synthetic data points (red dots) interpolated with linear and quadratic parameters.')"
      ]
     },
     "execution_count": 70,
     "metadata": {},
     "output_type": "execute_result"
    },
    {
     "data": {
      "image/png": "[encoded data removed]",
      "text/plain": [
       "<matplotlib.figure.Figure at 0x1a108eec7b8>"
      ]
     },
     "metadata": {
      "needs_background": "light"
     },
     "output_type": "display_data"
    }
   ],
   "source": [
    "import numpy as np\n",
    "from scipy.interpolate import interp1d\n",
    "# Setting up fake data\n",
    "x = np.linspace(0, 10 * np.pi, 20)\n",
    "y = np.cos(x)\n",
    "# Interpolating data\n",
    "fl = interp1d(x, y, kind='linear')\n",
    "fq = interp1d(x, y, kind='quadratic')\n",
    "# x.min and x.max are used to make sure we do not\n",
    "# go beyond the boundaries of the data for the\n",
    "# interpolation.\n",
    "xint = np.linspace(x.min(), x.max(), 1000)\n",
    "yintl = fl(xint)\n",
    "yintq = fq(xint)\n",
    "\n",
    "plt.figure()\n",
    "plt.plot(x,y,\"*\")\n",
    "plt.plot(xint,yintl)\n",
    "plt.plot(xint,yintq)\n",
    "plt.title(\"Synthetic data points (red dots) interpolated with linear and quadratic parameters.\")"
   ]
  },
  {
   "cell_type": "markdown",
   "metadata": {},
   "source": [
    "Can we interpolate noisy data? Yes, and it is surprisingly easy, using a spline-fitting\n",
    "function called scipy.interpolate.UnivariateSpline."
   ]
  },
  {
   "cell_type": "code",
   "execution_count": 71,
   "metadata": {},
   "outputs": [
    {
     "data": {
      "text/plain": [
       "Text(0.5,1,'Interpolating noisy synthetic data.')"
      ]
     },
     "execution_count": 71,
     "metadata": {},
     "output_type": "execute_result"
    },
    {
     "data": {
      "image/png": "[encoded data removed]",
      "text/plain": [
       "<matplotlib.figure.Figure at 0x1a10f9386d8>"
      ]
     },
     "metadata": {
      "needs_background": "light"
     },
     "output_type": "display_data"
    }
   ],
   "source": [
    "import numpy as np\n",
    "import matplotlib.pyplot as mpl\n",
    "from scipy.interpolate import UnivariateSpline\n",
    "# Setting up fake data with artificial noise\n",
    "sample = 30\n",
    "x = np.linspace(1, 10 * np.pi, sample)\n",
    "y = np.cos(x) + np.log10(x) + np.random.randn(sample) / 10\n",
    "# Interpolating the data\n",
    "f = UnivariateSpline(x, y, s=1)\n",
    "\n",
    "# x.min and x.max are used to make sure we do not\n",
    "# go beyond the boundaries of the data for the\n",
    "# interpolation.\n",
    "xint = np.linspace(x.min(), x.max(), 1000)\n",
    "yint = f(xint)\n",
    "\n",
    "plt.figure()\n",
    "plt.plot(x,y,\"*\")\n",
    "plt.plot(xint,yint)\n",
    "plt.title(\"Interpolating noisy synthetic data.\")"
   ]
  },
  {
   "cell_type": "markdown",
   "metadata": {},
   "source": [
    "Last but not least, we go over a multivariate example—in this case, to reproduce an\n",
    "image. The scipy.interpolate.griddata function is used for its capacity to deal with\n",
    "unstructured N-dimensional data. For example, if you have a 1000 × 1000-pixel image,\n",
    "and then randomly selected 1000 points, how well could you reconstruct the image?\n"
   ]
  },
  {
   "cell_type": "code",
   "execution_count": null,
   "metadata": {},
   "outputs": [],
   "source": [
    "import numpy as np\n",
    "from scipy.interpolate import griddata\n",
    "# Defining a function\n",
    "ripple = lambda x, y: np.sqrt(x**2 + y**2)+np.sin(x**2 + y**2)\n",
    "# Generating gridded data. The complex number defines\n",
    "# how many steps the grid data should have. Without the\n",
    "# complex number mgrid would only create a grid data structure\n",
    "# with 5 steps.\n",
    "grid_x, grid_y = np.mgrid[0:5:1000j, 0:5:1000j]\n",
    "# Generating sample that interpolation function will see\n",
    "xy = np.random.rand(1000, 2)\n",
    "sample = ripple(xy[:,0] * 5 , xy[:,1] * 5)\n",
    "# Interpolating data with a cubic\n",
    "grid_z0 = griddata(xy * 5, sample, (grid_x, grid_y), method='cubic')"
   ]
  },
  {
   "cell_type": "code",
   "execution_count": null,
   "metadata": {},
   "outputs": [],
   "source": [
    "import numpy as np\n",
    "from scipy.interpolate import SmoothBivariateSpline as SBS\n",
    "# Defining a function\n",
    "ripple = lambda x, y: np.sqrt(x**2 + y**2)+np.sin(x**2 + y**2)\n",
    "# Generating sample that interpolation function will see\n",
    "xy= np.random.rand(1000, 2)\n",
    "x, y = xy[:,0], xy[:,1]\n",
    "sample = ripple(xy[:,0] * 5 , xy[:,1] * 5)\n",
    "# Interpolating data\n",
    "fit = SBS(x * 5, y * 5, sample, s=0.01, kx=4, ky=4)\n",
    "interp = fit(np.linspace(0, 5, 1000), np.linspace(0, 5, 1000))"
   ]
  },
  {
   "cell_type": "markdown",
   "metadata": {},
   "source": [
    "## Integration\n",
    "\n",
    "### Analytic Integration\n",
    "\n",
    "$\\int _ { 0 } ^ { 3 } \\cos ^ { 2 } \\left( e ^ { x } \\right) \\mathrm { d } x$\n",
    "\n"
   ]
  },
  {
   "cell_type": "code",
   "execution_count": 73,
   "metadata": {},
   "outputs": [
    {
     "name": "stdout",
     "output_type": "stream",
     "text": [
      "(1.296467785724373, 1.397797133112089e-09)\n"
     ]
    }
   ],
   "source": [
    "import numpy as np\n",
    "from scipy.integrate import quad\n",
    "# Defining function to integrate\n",
    "func = lambda x: np.cos(np.exp(x)) ** 2\n",
    "# Integrating function with upper and lower\n",
    "# limits of 0 and 3, respectively\n",
    "solution = quad(func, 0, 3)\n",
    "print(solution)\n",
    "# The first element is the desired value\n",
    "# and the second is the error.\n",
    "# (1.296467785724373, 1.397797186265988e-09)"
   ]
  },
  {
   "cell_type": "markdown",
   "metadata": {},
   "source": [
    "### Numerical Integration\n",
    "\n",
    "Move on to the problem where we are given data instead of some known equation\n",
    "and numerical integration is needed.\n",
    "\n",
    "\n",
    "\n"
   ]
  },
  {
   "cell_type": "code",
   "execution_count": 74,
   "metadata": {},
   "outputs": [
    {
     "name": "stdout",
     "output_type": "stream",
     "text": [
      "fsolution = 5.100345067540932\n",
      "dsolution = 5.015585202039256\n",
      "The difference is 0.08475986550167569\n"
     ]
    }
   ],
   "source": [
    "import numpy as np\n",
    "from scipy.integrate import quad, trapz\n",
    "# Setting up fake data\n",
    "x = np.sort(np.random.randn(150) * 4 + 4).clip(0,5)\n",
    "func = lambda x: np.sin(x) * np.cos(x ** 2) + 1\n",
    "y = func(x)\n",
    "# Integrating function with upper and lower\n",
    "# limits of 0 and 5, respectively\n",
    "fsolution = quad(func, 0, 5)\n",
    "dsolution = trapz(y, x=x)\n",
    "\n",
    "print('fsolution = ' + str(fsolution[0]))\n",
    "print('dsolution = ' + str(dsolution))\n",
    "print('The difference is ' + str(np.abs(fsolution[0] - dsolution)))\n",
    "# fsolution = 5.10034506754\n",
    "# dsolution = 5.04201628314\n",
    "# The difference is 0.0583287843989."
   ]
  },
  {
   "cell_type": "markdown",
   "metadata": {},
   "source": [
    "The quad integrator can only work with a callable function, whereas trapz is a numerical\n",
    "integrator that utilizes data points.\n",
    "\n",
    "## Statistics\n"
   ]
  },
  {
   "cell_type": "code",
   "execution_count": 75,
   "metadata": {},
   "outputs": [],
   "source": [
    "import numpy as np\n",
    "\n",
    "x = np.random.randn(1000)\n",
    "\n",
    "mean = x.mean()\n",
    "\n",
    "std = x.std()\n",
    "\n",
    "var = x.var()\n"
   ]
  },
  {
   "cell_type": "markdown",
   "metadata": {},
   "source": [
    "### Continuous and Discrete Distributions\n",
    "\n",
    "When we call a distribution from scipy.stats, we can extract its information in several\n",
    "ways: probability density functions (PDFs), cumulative distribution functions (CDFs),\n",
    "random variable samples (RVSs), percent point functions (PPFs), and more. \n",
    "\n"
   ]
  },
  {
   "cell_type": "code",
   "execution_count": null,
   "metadata": {},
   "outputs": [],
   "source": [
    "import numpy as np\n",
    "import scipy.stats import norm\n",
    "# Set up the sample range\n",
    "x = np.linspace(-5,5,1000)\n",
    "\n",
    "\n",
    "# Here set up the parameters for the normal distribution,\n",
    "# where loc is the mean and scale is the standard deviation.\n",
    "dist = norm(loc=0, scale=1)\n",
    "# Retrieving norm's PDF and CDF\n",
    "pdf = dist.pdf(x)\n",
    "cdf = dist.cdf(x)\n",
    "# Here we draw out 500 random values from the norm.\n",
    "sample = dist.rvs(500)"
   ]
  },
  {
   "cell_type": "markdown",
   "metadata": {},
   "source": [
    "## Functions\n",
    "\n",
    "There are more than 60 statistical functions in SciPy, which can be overwhelming to\n",
    "digest if you simply are curious about what is available. The best way to think of\n",
    "the statistics functions is that they either describe or test samples—for example, the\n",
    "frequency of certain values or the Kolmogorov-Smirnov test, respectively.\n",
    "\n",
    "## Spatial and Clustering Analysis\n",
    "\n",
    "From biological to astrophysical sciences, spatial and clustering analysis are key to identifying patterns, groups, and clusters. In biology, for example, the spacing of different\n",
    "plant species hints at how seeds are dispersed, interact with the environment, and grow.\n",
    "In astrophysics, these analysis techniques are used to seek and identify star clusters,\n",
    "galaxy clusters, and large-scale filaments (composed of galaxy clusters). In the computer\n",
    "science domain, identifying and mapping complex networks of nodes and information\n",
    "is a vital study all on its own. With big data and data mining, identifying data clusters\n",
    "is becoming important, in order to organize discovered information, rather than being\n",
    "overwhelmed by it.\n",
    "\n",
    "### Vector Quantization\n",
    "Vector quantization is a general term that can be associated with signal processing, data\n",
    "compression, and clustering. Here we will focus on the clustering component, starting\n",
    "with how to feed data to the vq package in order to identify clusters"
   ]
  },
  {
   "cell_type": "code",
   "execution_count": 76,
   "metadata": {},
   "outputs": [],
   "source": [
    "import numpy as np\n",
    "from scipy.cluster import vq\n",
    "# Creating data\n",
    "c1 = np.random.randn(100, 2) + 5\n",
    "c2 = np.random.randn(30, 2) - 5\n",
    "c3 = np.random.randn(50, 2)\n",
    "# Pooling all the data into one 180 x 2 array\n",
    "data = np.vstack([c1, c2, c3])\n",
    "# Calculating the cluster centroids and variance\n",
    "# from kmeans\n",
    "centroids, variance = vq.kmeans(data, 3)\n",
    "# The identified variable contains the information\n",
    "# we need to separate the points in clusters\n",
    "# based on the vq function.\n",
    "identified, distance = vq.vq(data, centroids)\n",
    "# Retrieving coordinates for points in each vq\n",
    "# identified core\n",
    "vqc1 = data[identified == 0]\n",
    "\n",
    "\n",
    "vqc2 = data[identified == 1]\n",
    "vqc3 = data[identified == 2]"
   ]
  },
  {
   "cell_type": "markdown",
   "metadata": {},
   "source": [
    "### Hierarchical Clustering \n",
    "\n",
    "Hierarchical clustering is a powerful tool for identifying structures that are nested\n",
    "within larger structures. But working with the output can be tricky, as we do not get\n",
    "cleanly identified clusters like we do with the kmeans technique. \n",
    "\n",
    "## Signal and Image Processing\n",
    "\n",
    "SciPy allows us to read and write image files like JPEG and PNG images without\n",
    "worrying too much about the file structure for color images. \n",
    "\n",
    "## Sparse Matrix\n",
    "\n",
    "With NumPy we can operate with reasonable speeds on arrays containing 106 elements.\n",
    "Once we go up to 107 elements, operations can start to slow down and Python’s memory\n",
    "will become limited, depending on the amount of RAM available. What’s the best\n",
    "solution if you need to work with an array that is far larger—say, 1010 elements? If\n",
    "these massive arrays primarily contain zeros, then you’re in luck, as this is the property\n",
    "of sparse matrices. If a sparse matrix is treated correctly, operation time and memory\n",
    "usage can go down drastically. \n",
    "\n"
   ]
  },
  {
   "cell_type": "code",
   "execution_count": 77,
   "metadata": {},
   "outputs": [
    {
     "name": "stdout",
     "output_type": "stream",
     "text": [
      "The numpy array data size: 72000000 bytes\n",
      "The sparse matrix data size: 720000 bytes\n",
      "Non-sparse operation takes 6.857 seconds\n",
      "Sparse operation takes 0.17 seconds\n"
     ]
    }
   ],
   "source": [
    "import numpy as np\n",
    "from scipy.sparse.linalg import eigsh\n",
    "from scipy.linalg import eigh\n",
    "import scipy.sparse\n",
    "import time\n",
    "N = 3000\n",
    "# Creating a random sparse matrix\n",
    "m = scipy.sparse.rand(N, N)\n",
    "# Creating an array clone of it\n",
    "a = m.toarray()\n",
    "print('The numpy array data size: ' + str(a.nbytes) + ' bytes')\n",
    "print('The sparse matrix data size: ' + str(m.data.nbytes) + ' bytes')\n",
    "# Non-sparse\n",
    "t0 = time.time()\n",
    "\n",
    "res1 = eigh(a)\n",
    "dt = str(np.round(time.time() - t0, 3)) + ' seconds'\n",
    "print('Non-sparse operation takes ' + dt)\n",
    "# Sparse\n",
    "t0 = time.time()\n",
    "res2 = eigsh(m)\n",
    "dt = str(np.round(time.time() - t0, 3)) + ' seconds'\n",
    "print('Sparse operation takes ' + dt)"
   ]
  },
  {
   "cell_type": "markdown",
   "metadata": {},
   "source": [
    "# Chapter 4 SciKit: Taking SciPy One Step Further \n",
    "\n",
    "# Chapter 5 Summary\n"
   ]
  }
 ],
 "metadata": {
  "kernelspec": {
   "display_name": "Python 3",
   "language": "python",
   "name": "python3"
  },
  "language_info": {
   "codemirror_mode": {
    "name": "ipython",
    "version": 3
   },
   "file_extension": ".py",
   "mimetype": "text/x-python",
   "name": "python",
   "nbconvert_exporter": "python",
   "pygments_lexer": "ipython3",
   "version": "3.6.3"
  },
  "toc": {
   "base_numbering": 1,
   "nav_menu": {},
   "number_sections": true,
   "sideBar": true,
   "skip_h1_title": false,
   "title_cell": "Table of Contents",
   "title_sidebar": "Contents",
   "toc_cell": false,
   "toc_position": {},
   "toc_section_display": true,
   "toc_window_display": false
  }
 },
 "nbformat": 4,
 "nbformat_minor": 2
}
