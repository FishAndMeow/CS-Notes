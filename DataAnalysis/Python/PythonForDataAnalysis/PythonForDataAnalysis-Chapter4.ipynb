{
 "cells": [
  {
   "cell_type": "markdown",
   "metadata": {},
   "source": [
    "# 第四章 Numpy基础：数组和矢量计算\n",
    "## Numpy的 ndarray:一种多维数组对象\n",
    "**创建 Ndarray**"
   ]
  },
  {
   "cell_type": "code",
   "execution_count": 1,
   "metadata": {},
   "outputs": [
    {
     "data": {
      "text/plain": [
       "array([ 6. ,  7. ,  8. ,  7.6])"
      ]
     },
     "execution_count": 1,
     "metadata": {},
     "output_type": "execute_result"
    }
   ],
   "source": [
    "import numpy as np\n",
    "data1 = [6,7,8,7.6]\n",
    "arr1 = np.array(data1)\n",
    "arr1"
   ]
  },
  {
   "cell_type": "markdown",
   "metadata": {},
   "source": [
    "嵌套序列将会被转换为一个多维数组"
   ]
  },
  {
   "cell_type": "code",
   "execution_count": 2,
   "metadata": {},
   "outputs": [
    {
     "data": {
      "text/plain": [
       "array([[1, 2],\n",
       "       [3, 4]])"
      ]
     },
     "execution_count": 2,
     "metadata": {},
     "output_type": "execute_result"
    }
   ],
   "source": [
    "import numpy as np\n",
    "data2 = [[1,2],[3,4]]\n",
    "arr2 = np.array(data2)\n",
    "arr2"
   ]
  },
  {
   "cell_type": "code",
   "execution_count": 5,
   "metadata": {},
   "outputs": [
    {
     "data": {
      "text/plain": [
       "dtype('int32')"
      ]
     },
     "execution_count": 5,
     "metadata": {},
     "output_type": "execute_result"
    }
   ],
   "source": [
    "arr2.dtype"
   ]
  },
  {
   "cell_type": "markdown",
   "metadata": {},
   "source": [
    "还有 ones zeros empty 可以创建新数组"
   ]
  },
  {
   "cell_type": "code",
   "execution_count": 8,
   "metadata": {},
   "outputs": [
    {
     "data": {
      "text/plain": [
       "array([0, 1, 2, 3, 4, 5, 6, 7, 8, 9])"
      ]
     },
     "execution_count": 8,
     "metadata": {},
     "output_type": "execute_result"
    }
   ],
   "source": [
    "import numpy as np\n",
    "np.arange(10)"
   ]
  },
  {
   "cell_type": "markdown",
   "metadata": {},
   "source": [
    "**数组和标量之间的运算**\n",
    "\n",
    "可以不用编写循环就可以对数据执行批量运算，即矢量化"
   ]
  },
  {
   "cell_type": "code",
   "execution_count": 14,
   "metadata": {},
   "outputs": [
    {
     "name": "stdout",
     "output_type": "stream",
     "text": [
      "[[ 1  4  9]\n",
      " [16 25 36]]\n",
      "[[ 1.          1.41421356  1.73205081]\n",
      " [ 2.          2.23606798  2.44948974]]\n"
     ]
    }
   ],
   "source": [
    "import numpy as np\n",
    "arr = np.array([[1,2,3],[4,5,6]])\n",
    "\n",
    "print(arr*arr)\n",
    "\n",
    "print(arr ** 0.5)"
   ]
  },
  {
   "cell_type": "markdown",
   "metadata": {},
   "source": [
    "和列表的区别在于，数组切片是原始数组的视图。\n",
    "\n",
    "也就是说，数据不会被复制，对于任何修改都会直接反映到原数组上。"
   ]
  },
  {
   "cell_type": "code",
   "execution_count": 18,
   "metadata": {},
   "outputs": [
    {
     "data": {
      "text/plain": [
       "array([64, 64, 64])"
      ]
     },
     "execution_count": 18,
     "metadata": {},
     "output_type": "execute_result"
    }
   ],
   "source": [
    "import numpy as np\n",
    "arr = np.array([0,1,2,3,4,5,6,7,8,9])\n",
    "arr_slice = arr[5:8]\n",
    "arr_slice\n",
    "arr_slice[:] = 64\n",
    "arr_slice"
   ]
  },
  {
   "cell_type": "markdown",
   "metadata": {},
   "source": [
    "所以如果需要得到的是切片的一个副本而不是视图，就需要显式地进行复制操作，例如 arr[5:8].copy"
   ]
  },
  {
   "cell_type": "markdown",
   "metadata": {},
   "source": [
    "**布尔型索引**\n",
    "\n",
    "一种常见的对于数组的索引是利用布尔值"
   ]
  },
  {
   "cell_type": "code",
   "execution_count": 20,
   "metadata": {},
   "outputs": [
    {
     "data": {
      "text/plain": [
       "array([[ 0.  ,  3.  ],\n",
       "       [ 2.34,  0.  ]])"
      ]
     },
     "execution_count": 20,
     "metadata": {},
     "output_type": "execute_result"
    }
   ],
   "source": [
    "import numpy as np\n",
    "data = np.array([[-0.2,3],[2.34,-0.23]])\n",
    "data[data<0] = 0\n",
    "data"
   ]
  },
  {
   "cell_type": "markdown",
   "metadata": {},
   "source": [
    "** Fancy indexing**\n",
    "\n",
    "利用整数数组进行索引"
   ]
  },
  {
   "cell_type": "code",
   "execution_count": 21,
   "metadata": {},
   "outputs": [
    {
     "data": {
      "text/plain": [
       "array([[ 0.,  0.,  0.,  0.],\n",
       "       [ 1.,  1.,  1.,  1.],\n",
       "       [ 2.,  2.,  2.,  2.],\n",
       "       [ 3.,  3.,  3.,  3.],\n",
       "       [ 4.,  4.,  4.,  4.],\n",
       "       [ 5.,  5.,  5.,  5.],\n",
       "       [ 6.,  6.,  6.,  6.],\n",
       "       [ 7.,  7.,  7.,  7.]])"
      ]
     },
     "execution_count": 21,
     "metadata": {},
     "output_type": "execute_result"
    }
   ],
   "source": [
    "import numpy as mp\n",
    "arr = np.empty((8,4))\n",
    "for i in range(8):\n",
    "    arr[i] = i\n",
    "arr"
   ]
  },
  {
   "cell_type": "code",
   "execution_count": 22,
   "metadata": {},
   "outputs": [
    {
     "data": {
      "text/plain": [
       "array([[ 4.,  4.,  4.,  4.],\n",
       "       [ 3.,  3.,  3.,  3.],\n",
       "       [ 0.,  0.,  0.,  0.],\n",
       "       [ 6.,  6.,  6.,  6.]])"
      ]
     },
     "execution_count": 22,
     "metadata": {},
     "output_type": "execute_result"
    }
   ],
   "source": [
    "arr[[4,3,0,6]]"
   ]
  },
  {
   "cell_type": "code",
   "execution_count": 24,
   "metadata": {},
   "outputs": [
    {
     "name": "stdout",
     "output_type": "stream",
     "text": [
      "[[ 0  1  2  3]\n",
      " [ 4  5  6  7]\n",
      " [ 8  9 10 11]\n",
      " [12 13 14 15]\n",
      " [16 17 18 19]\n",
      " [20 21 22 23]\n",
      " [24 25 26 27]\n",
      " [28 29 30 31]]\n"
     ]
    },
    {
     "data": {
      "text/plain": [
       "array([ 4, 23, 29, 10])"
      ]
     },
     "execution_count": 24,
     "metadata": {},
     "output_type": "execute_result"
    }
   ],
   "source": [
    "arr = np.arange(32).reshape((8,4))\n",
    "print(arr)\n",
    "arr[[1,5,7,2],[0,3,1,2]]"
   ]
  },
  {
   "cell_type": "code",
   "execution_count": 26,
   "metadata": {},
   "outputs": [
    {
     "data": {
      "text/plain": [
       "array([[ 4,  7,  5,  6],\n",
       "       [20, 23, 21, 22],\n",
       "       [28, 31, 29, 30],\n",
       "       [ 8, 11,  9, 10]])"
      ]
     },
     "execution_count": 26,
     "metadata": {},
     "output_type": "execute_result"
    }
   ],
   "source": [
    "arr[[1,5,7,2]][:,[0,3,1,2]]"
   ]
  },
  {
   "cell_type": "code",
   "execution_count": 27,
   "metadata": {},
   "outputs": [
    {
     "data": {
      "text/plain": [
       "array([[ 4,  7,  5,  6],\n",
       "       [20, 23, 21, 22],\n",
       "       [28, 31, 29, 30],\n",
       "       [ 8, 11,  9, 10]])"
      ]
     },
     "execution_count": 27,
     "metadata": {},
     "output_type": "execute_result"
    }
   ],
   "source": [
    "arr[np.ix_([1,5,7,2],[0,3,1,2])]"
   ]
  },
  {
   "cell_type": "markdown",
   "metadata": {},
   "source": [
    "花式索引和切片不一样，总是将宿舍复制到新的数组中。\n",
    "\n",
    "**数组转置和轴对换**\n",
    "\n",
    "转置也不会进行对于源数据的复制,在进行矩阵内积计算中常常用到"
   ]
  },
  {
   "cell_type": "code",
   "execution_count": 31,
   "metadata": {},
   "outputs": [
    {
     "name": "stdout",
     "output_type": "stream",
     "text": [
      "[[ 0  1  2  3  4]\n",
      " [ 5  6  7  8  9]\n",
      " [10 11 12 13 14]]\n",
      "[[ 0  5 10]\n",
      " [ 1  6 11]\n",
      " [ 2  7 12]\n",
      " [ 3  8 13]\n",
      " [ 4  9 14]]\n",
      "[[ 0  5 10]\n",
      " [ 1  6 11]\n",
      " [ 2  7 12]\n",
      " [ 3  8 13]\n",
      " [ 4  9 14]]\n",
      "[[ 0.71339914  0.27020839 -0.84892226]\n",
      " [-0.72563928  0.18723244  0.10194539]\n",
      " [-3.23360187  0.6528107  -0.38816385]\n",
      " [-0.20556261  1.03576152  0.71852479]\n",
      " [-0.65932081 -2.75839918  0.53026324]\n",
      " [ 1.70380211  1.53550503  0.72717989]]\n"
     ]
    },
    {
     "data": {
      "text/plain": [
       "array([[ 14.87157328,   2.16792616,   1.31722658],\n",
       "       [  2.16792616,  11.57357402,  -0.06556491],\n",
       "       [  1.31722658,  -0.06556491,   2.20798061]])"
      ]
     },
     "execution_count": 31,
     "metadata": {},
     "output_type": "execute_result"
    }
   ],
   "source": [
    "import numpy as np\n",
    "arr = np.arange(15).reshape((3,5))\n",
    "print(arr)\n",
    "print(arr.T)\n",
    "print(arr.transpose())\n",
    "arr = np.random.randn(6,3)\n",
    "print(arr)\n",
    "np.dot(arr.T,arr)\n"
   ]
  },
  {
   "cell_type": "markdown",
   "metadata": {},
   "source": [
    "对于高维数组，需要给 transpose 传递一个用轴编号组成的元祖才能对于这些轴进行转置。\n",
    "\n",
    "**通用函数：快速的元素级数组函数**\n",
    "通用函数是对于 ndarray 中的数据执行元素级运算的函数，可以将其视为简单函数的矢量化包装器。"
   ]
  },
  {
   "cell_type": "code",
   "execution_count": 32,
   "metadata": {},
   "outputs": [
    {
     "name": "stdout",
     "output_type": "stream",
     "text": [
      "[ 0.          1.          1.41421356  1.73205081  2.          2.23606798\n",
      "  2.44948974  2.64575131  2.82842712  3.        ]\n",
      "[  1.00000000e+00   2.71828183e+00   7.38905610e+00   2.00855369e+01\n",
      "   5.45981500e+01   1.48413159e+02   4.03428793e+02   1.09663316e+03\n",
      "   2.98095799e+03   8.10308393e+03]\n",
      "[-1.56586268  0.96475604 -0.42009365  1.15988951  0.35847242  0.87285986\n",
      " -0.41010391 -0.71111478]\n",
      "[ 0.71123516 -0.40064383 -0.16343943  0.19174829 -0.71690498  0.23240237\n",
      "  0.7232248  -0.36175129]\n",
      "[ 0.71123516  0.96475604 -0.16343943  1.15988951  0.35847242  0.87285986\n",
      "  0.7232248  -0.36175129]\n"
     ]
    }
   ],
   "source": [
    "import numpy as np\n",
    "arr = np.arange(10)\n",
    "print(np.sqrt(arr))\n",
    "print(np.exp(arr))\n",
    "\n",
    "x = np.random.randn(8)\n",
    "print(x)\n",
    "y = mp.random.randn(8)\n",
    "print(y)\n",
    "print(np.maximum(x,y))"
   ]
  },
  {
   "cell_type": "markdown",
   "metadata": {},
   "source": [
    "**利用数组进行数据处理**\n",
    "\n",
    "利用数组可以将很多种数据处理任务简化为数组表达式（否则需要编写循环）。\n",
    "\n",
    "利用数组表达式代替循环的做法，称为矢量化。\n",
    "这一方法一般比等价的方式快上一两个数量级，所以在数值计算中很重要。"
   ]
  },
  {
   "cell_type": "code",
   "execution_count": 34,
   "metadata": {},
   "outputs": [
    {
     "data": {
      "image/png": "[encoded data removed]",
      "text/plain": [
       "<matplotlib.figure.Figure at 0x1b376955470>"
      ]
     },
     "metadata": {},
     "output_type": "display_data"
    }
   ],
   "source": [
    "import numpy as np\n",
    "import matplotlib.pyplot as plt\n",
    "points = np.arange(-5,5,0.01)\n",
    "xs,ys = np.meshgrid(points,points)\n",
    "\n",
    "z = np.sqrt(xs**2 + ys**2)\n",
    "\n",
    "plt.imshow(z,cmap=plt.cm.gray)\n",
    "plt.colorbar()\n",
    "plt.title(\"Image plot\")\n",
    "plt.show()"
   ]
  },
  {
   "cell_type": "markdown",
   "metadata": {},
   "source": [
    "**将条件逻辑表述为数组运算**\n",
    "\n",
    "numpy.where 函数\n",
    "\n",
    "还可以用于根据一个数组产生另外一个数组"
   ]
  },
  {
   "cell_type": "code",
   "execution_count": 39,
   "metadata": {},
   "outputs": [
    {
     "name": "stdout",
     "output_type": "stream",
     "text": [
      "[ 1.1  2.2  1.3]\n"
     ]
    }
   ],
   "source": [
    "import numpy as np\n",
    "xarr = np.array([1.1,1.2,1.3])\n",
    "yarr = np.array([2.1,2.2,2.3])\n",
    "cond = np.array([True,False,True])\n",
    "\n",
    "result1 = np.where(cond,xarr,yarr)\n",
    "print(result1)"
   ]
  },
  {
   "cell_type": "code",
   "execution_count": 41,
   "metadata": {},
   "outputs": [
    {
     "name": "stdout",
     "output_type": "stream",
     "text": [
      "[[-0.54492384 -0.16086691  0.45438412 -0.52546054]\n",
      " [-0.23297619 -1.26250271  1.48155412  0.15998361]\n",
      " [ 0.79045595 -0.0456819  -0.05990048  0.37642498]\n",
      " [ 0.05255322 -0.28002741  1.46000742  0.9935079 ]]\n",
      "[[-2 -2  2 -2]\n",
      " [-2 -2  2  2]\n",
      " [ 2 -2 -2  2]\n",
      " [ 2 -2  2  2]]\n",
      "[[-0.54492384 -0.16086691  2.         -0.52546054]\n",
      " [-0.23297619 -1.26250271  2.          2.        ]\n",
      " [ 2.         -0.0456819  -0.05990048  2.        ]\n",
      " [ 2.         -0.28002741  2.          2.        ]]\n"
     ]
    }
   ],
   "source": [
    "arr = np.random.randn(4,4)\n",
    "print(arr)\n",
    "\n",
    "arr1 = np.where(arr>0,2,-2)\n",
    "arr2 = np.where(arr>0,2,arr)\n",
    "\n",
    "print(arr1)\n",
    "print(arr2)"
   ]
  },
  {
   "cell_type": "markdown",
   "metadata": {},
   "source": [
    "**数学和统计方法**\n",
    "\n",
    "数学函数可以对于某个轴向的数据进行统计计算"
   ]
  },
  {
   "cell_type": "code",
   "execution_count": 45,
   "metadata": {},
   "outputs": [
    {
     "name": "stdout",
     "output_type": "stream",
     "text": [
      "[[ 0.2607086  -0.63260576  1.3168348  -1.90210283]\n",
      " [-2.20267064  0.4819067  -1.6086633  -0.04358638]\n",
      " [-0.51856974 -0.60648198  1.02205771 -0.05789066]\n",
      " [-0.71636218  0.68934194  0.71798269  1.81125615]\n",
      " [ 0.51337859 -0.46466076  0.63607506 -1.32009272]]\n",
      "[ 0.2607086  -0.63260576  1.3168348  -1.90210283]\n",
      "[-2.66351537 -0.53249986  2.08428696 -1.51241644]\n"
     ]
    }
   ],
   "source": [
    "import numpy as np\n",
    "arr = np.random.randn(5,4)\n",
    "\n",
    "print(arr)\n",
    "\n",
    "print(arr.sum(0))"
   ]
  },
  {
   "cell_type": "markdown",
   "metadata": {},
   "source": [
    "**用于布尔型数组的方法**\n",
    "\n",
    "布尔值在上面的方法中会被强制转换俄日 1(True) 和 0(False) 常常可以使用 sum 进行对于 True 的计数\n",
    "\n",
    "另外还有 any 和 all 方法"
   ]
  },
  {
   "cell_type": "code",
   "execution_count": 46,
   "metadata": {},
   "outputs": [
    {
     "data": {
      "text/plain": [
       "41"
      ]
     },
     "execution_count": 46,
     "metadata": {},
     "output_type": "execute_result"
    }
   ],
   "source": [
    "import numpy as np\n",
    "arr = np.random.randn(100)\n",
    "\n",
    "(arr>0).sum()"
   ]
  },
  {
   "cell_type": "code",
   "execution_count": 47,
   "metadata": {},
   "outputs": [
    {
     "data": {
      "text/plain": [
       "False"
      ]
     },
     "execution_count": 47,
     "metadata": {},
     "output_type": "execute_result"
    }
   ],
   "source": [
    "bools = np.array([False,True,False])\n",
    "bools.any() #检查数组中是否存在 True\n",
    "bools.all() #检查数组中是否都是True"
   ]
  },
  {
   "cell_type": "markdown",
   "metadata": {},
   "source": [
    "**排序**\n",
    "\n",
    "sort 方法"
   ]
  },
  {
   "cell_type": "code",
   "execution_count": 56,
   "metadata": {},
   "outputs": [
    {
     "data": {
      "text/plain": [
       "array([[ 1, -6],\n",
       "       [ 3, -1]])"
      ]
     },
     "execution_count": 56,
     "metadata": {},
     "output_type": "execute_result"
    }
   ],
   "source": [
    "import numpy as np\n",
    "arr1 = np.array([[1,-1],[3,-6]])\n",
    "arr1.sort(0)\n",
    "arr1"
   ]
  },
  {
   "cell_type": "markdown",
   "metadata": {},
   "source": [
    "**唯一化**\n",
    "\n",
    "np.unique 可以找出数值中的唯一值并且返回已经排序的结果\n",
    "\n",
    "还有别的集合函数"
   ]
  },
  {
   "cell_type": "code",
   "execution_count": 57,
   "metadata": {},
   "outputs": [
    {
     "data": {
      "text/plain": [
       "array([-2,  1,  2,  3,  4])"
      ]
     },
     "execution_count": 57,
     "metadata": {},
     "output_type": "execute_result"
    }
   ],
   "source": [
    "import numpy as np\n",
    "ints = np.array([3,3,3,2,2,3,-2,-2,1,4,4])\n",
    "np.unique(ints)"
   ]
  },
  {
   "cell_type": "markdown",
   "metadata": {},
   "source": [
    "**用于数组的文件输入和输出**\n",
    "\n",
    "+ 将数据以二进制格式保存\n",
    "\n",
    "np.save 和 np.load \n",
    "\n",
    "默认情况下，数组以未压缩的原始二进制格式保存在 ,npy 文件中\n",
    "\n",
    "np.savez 则可以把多个数组保存到一个压缩文件中\n",
    "\n",
    "+ 存取文本文件\n",
    "\n",
    "pandas 中的 read_csv 和 read_table\n",
    "\n",
    "另外还有 np.loadtxt 和 np.getfromtxt 将数据加载到 Numpy 数组中\n",
    "\n",
    "存取则是 np.savetxt"
   ]
  },
  {
   "cell_type": "markdown",
   "metadata": {},
   "source": [
    "**线性代数**\n"
   ]
  },
  {
   "cell_type": "code",
   "execution_count": 59,
   "metadata": {},
   "outputs": [
    {
     "data": {
      "text/plain": [
       "array([[ 3.21642582,  1.07775503,  1.22414586],\n",
       "       [ 1.07775503,  1.33550912,  1.48689111],\n",
       "       [ 1.22414586,  1.48689111,  1.66831317]])"
      ]
     },
     "execution_count": 59,
     "metadata": {},
     "output_type": "execute_result"
    }
   ],
   "source": [
    "from numpy.linalg import inv,qr\n",
    "import numpy as np\n",
    "X = np.random.randn(3,3)\n",
    "\n",
    "mat = X.T.dot(X)\n",
    "mat"
   ]
  },
  {
   "cell_type": "code",
   "execution_count": 61,
   "metadata": {},
   "outputs": [
    {
     "data": {
      "text/plain": [
       "array([[  0.43457189,   0.55927704,  -0.81733062],\n",
       "       [  0.55927704,  97.70180388, -87.48751888],\n",
       "       [ -0.81733062, -87.48751888,  79.17275248]])"
      ]
     },
     "execution_count": 61,
     "metadata": {},
     "output_type": "execute_result"
    }
   ],
   "source": [
    "inv(mat)"
   ]
  },
  {
   "cell_type": "code",
   "execution_count": 60,
   "metadata": {},
   "outputs": [
    {
     "data": {
      "text/plain": [
       "array([[  1.00000000e+00,   0.00000000e+00,   0.00000000e+00],\n",
       "       [ -4.44089210e-16,   1.00000000e+00,   1.42108547e-14],\n",
       "       [ -2.22044605e-16,   2.84217094e-14,   1.00000000e+00]])"
      ]
     },
     "execution_count": 60,
     "metadata": {},
     "output_type": "execute_result"
    }
   ],
   "source": [
    "mat.dot(inv(mat))"
   ]
  },
  {
   "cell_type": "code",
   "execution_count": 62,
   "metadata": {},
   "outputs": [
    {
     "data": {
      "text/plain": [
       "array([[-3.6063117 , -1.86507517, -2.10246313],\n",
       "       [ 0.        , -1.29517579, -1.43952216],\n",
       "       [ 0.        ,  0.        ,  0.00847486]])"
      ]
     },
     "execution_count": 62,
     "metadata": {},
     "output_type": "execute_result"
    }
   ],
   "source": [
    "q,r = qr(mat)\n",
    "r"
   ]
  },
  {
   "cell_type": "markdown",
   "metadata": {},
   "source": [
    "**随机数生成**\n",
    "\n",
    "numpy.random 模块比 python 内置的 random模块强大"
   ]
  }
 ],
 "metadata": {
  "kernelspec": {
   "display_name": "Python 3",
   "language": "python",
   "name": "python3"
  },
  "language_info": {
   "codemirror_mode": {
    "name": "ipython",
    "version": 3
   },
   "file_extension": ".py",
   "mimetype": "text/x-python",
   "name": "python",
   "nbconvert_exporter": "python",
   "pygments_lexer": "ipython3",
   "version": "3.6.2"
  }
 },
 "nbformat": 4,
 "nbformat_minor": 2
}
